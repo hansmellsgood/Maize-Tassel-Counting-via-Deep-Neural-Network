{
 "cells": [
  {
   "cell_type": "markdown",
   "id": "00df9653",
   "metadata": {},
   "source": [
    "# Model Evaluation"
   ]
  },
  {
   "cell_type": "code",
   "execution_count": 36,
   "id": "a8723a6d",
   "metadata": {},
   "outputs": [],
   "source": [
    "import seaborn as sns\n",
    "import matplotlib.pyplot as plt\n",
    "plt.style.use('seaborn-darkgrid')"
   ]
  },
  {
   "cell_type": "code",
   "execution_count": 37,
   "id": "3d0dc730",
   "metadata": {},
   "outputs": [
    {
     "data": {
      "image/png": "[encoded data removed]",
      "text/plain": [
       "<Figure size 432x288 with 1 Axes>"
      ]
     },
     "metadata": {},
     "output_type": "display_data"
    }
   ],
   "source": [
    "plt.plot()\n",
    "plt.show()"
   ]
  },
  {
   "cell_type": "code",
   "execution_count": 109,
   "id": "69956280",
   "metadata": {},
   "outputs": [],
   "source": [
    "#from IPython.display import Image\n",
    "from IPython.display import display\n",
    "import os\n",
    "from random import choice\n",
    "import shutil\n",
    "import pandas as pd\n",
    "import numpy as np\n",
    "from PIL import Image\n",
    "import cv2\n",
    "import xml.etree.ElementTree as ET\n",
    "import scipy.io as sio\n",
    "import math\n",
    "from sklearn.metrics import confusion_matrix\n",
    "\n",
    "# Torch Modules\n",
    "import torch\n",
    "import torch.nn.functional as F\n",
    "import torch.nn as nn\n",
    "import torch.optim as optim\n",
    "import torchvision\n",
    "from torchvision import datasets, transforms"
   ]
  },
  {
   "cell_type": "markdown",
   "id": "a5ad26fd",
   "metadata": {},
   "source": [
    "## Check for Missing Files"
   ]
  },
  {
   "cell_type": "code",
   "execution_count": 39,
   "id": "3717351e",
   "metadata": {},
   "outputs": [
    {
     "name": "stdout",
     "output_type": "stream",
     "text": [
      "Train Image:170\n",
      "Train Label:171\n",
      "[]\n",
      "0\n"
     ]
    }
   ],
   "source": [
    "trainimagePath='yolo_model/dataset/images/train'\n",
    "trainlabelPath='yolo_model/dataset/labels/train'\n",
    "valimagePath='yolo_model/dataset/images/val'\n",
    "vallabelPath='yolo_model/dataset/labels/val'\n",
    "\n",
    "label_txt = []\n",
    "delete = []\n",
    "print(\"Train Image:\" + str(len(os.listdir(trainimagePath))))\n",
    "print(\"Train Label:\" +str(len(os.listdir(trainlabelPath))))\n",
    "for filename in os.listdir(trainlabelPath):\n",
    "    word = filename[:-4]\n",
    "    label_txt.append(word)\n",
    "for file in os.listdir(trainimagePath):\n",
    "    if file[:-4] not in label_txt:\n",
    "        delete.append(file)\n",
    "print(delete)\n",
    "print(len(delete))"
   ]
  },
  {
   "cell_type": "code",
   "execution_count": 40,
   "id": "5e68529f",
   "metadata": {},
   "outputs": [
    {
     "name": "stdout",
     "output_type": "stream",
     "text": [
      "Val Image:168\n",
      "Val Label:170\n",
      "[]\n",
      "0\n"
     ]
    }
   ],
   "source": [
    "label_txt = []\n",
    "delete = []\n",
    "print(\"Val Image:\" +str(len(os.listdir(valimagePath))))\n",
    "print(\"Val Label:\" +str(len(os.listdir(vallabelPath))))\n",
    "for filename in os.listdir(vallabelPath):\n",
    "    word = filename[:-4]\n",
    "    label_txt.append(word)\n",
    "for file in os.listdir(valimagePath):\n",
    "    if file[:-4] not in label_txt:\n",
    "        delete.append(file)\n",
    "print(delete)\n",
    "print(len(delete))"
   ]
  },
  {
   "cell_type": "code",
   "execution_count": 41,
   "id": "7629852b",
   "metadata": {},
   "outputs": [
    {
     "name": "stdout",
     "output_type": "stream",
     "text": [
      "Train Image:170\n",
      "Train Label:170\n",
      "[]\n",
      "0\n"
     ]
    }
   ],
   "source": [
    "RCNN_trainlabelPath='yolo_model/dataset/labels/train/FASTER-RCNN'\n",
    "RCNN_vallabelPath='yolo_model/dataset/labels/val/FASTER-RCNN'\n",
    "label_txt = []\n",
    "delete = []\n",
    "print(\"Train Image:\" + str(len(os.listdir(trainimagePath))))\n",
    "print(\"Train Label:\" +str(len(os.listdir(RCNN_trainlabelPath))))\n",
    "for filename in os.listdir(RCNN_trainlabelPath):\n",
    "    word = filename[:-4]\n",
    "    label_txt.append(word)\n",
    "for file in os.listdir(trainimagePath):\n",
    "    if file[:-4] not in label_txt:\n",
    "        delete.append(file)\n",
    "print(delete)\n",
    "print(len(delete))"
   ]
  },
  {
   "cell_type": "code",
   "execution_count": 42,
   "id": "9a3067ad",
   "metadata": {},
   "outputs": [
    {
     "name": "stdout",
     "output_type": "stream",
     "text": [
      "Val Image:168\n",
      "Val Label:168\n",
      "[]\n",
      "0\n"
     ]
    }
   ],
   "source": [
    "label_txt = []\n",
    "delete = []\n",
    "print(\"Val Image:\" +str(len(os.listdir(valimagePath))))\n",
    "print(\"Val Label:\" +str(len(os.listdir(RCNN_vallabelPath))))\n",
    "for filename in os.listdir(RCNN_vallabelPath):\n",
    "    word = filename[:-4]\n",
    "    label_txt.append(word)\n",
    "for file in os.listdir(valimagePath):\n",
    "    if file[:-4] not in label_txt:\n",
    "        delete.append(file)\n",
    "print(delete)\n",
    "print(len(delete))"
   ]
  },
  {
   "cell_type": "code",
   "execution_count": 50,
   "id": "0923d622",
   "metadata": {},
   "outputs": [
    {
     "name": "stdout",
     "output_type": "stream",
     "text": [
      "Train Image:168\n",
      "Train Label:168\n",
      "[]\n",
      "0\n"
     ]
    }
   ],
   "source": [
    "DENSITY_vallabelPath='yolo_model/dataset/labels/val/DENSITY'\n",
    "label_txt = []\n",
    "delete = []\n",
    "print(\"Train Image:\" + str(len(os.listdir(valimagePath))))\n",
    "print(\"Train Label:\" +str(len(os.listdir(DENSITY_vallabelPath))))\n",
    "for filename in os.listdir(valimagePath):\n",
    "    word = filename[:-4]\n",
    "    label_txt.append(word)\n",
    "for file in os.listdir(DENSITY_vallabelPath):\n",
    "    if file[:-4] not in label_txt:\n",
    "        delete.append(file)\n",
    "print(delete)\n",
    "print(len(delete))"
   ]
  },
  {
   "cell_type": "markdown",
   "id": "7cede82b",
   "metadata": {},
   "source": [
    "## Functions to calculate MAE, MSE, RMAE, RMSE"
   ]
  },
  {
   "cell_type": "code",
   "execution_count": 51,
   "id": "499431f3",
   "metadata": {},
   "outputs": [],
   "source": [
    "def compute_mae(pd, gt):\n",
    "    pd, gt = np.array(pd), np.array(gt)\n",
    "    diff = pd - gt\n",
    "    mae = np.mean(np.abs(diff))\n",
    "    return mae\n",
    "\n",
    "\n",
    "def compute_mse(pd, gt):\n",
    "    pd, gt = np.array(pd), np.array(gt)\n",
    "    diff = pd - gt\n",
    "    mse = np.sqrt(np.mean((diff ** 2)))\n",
    "    return mse\n",
    "\n",
    "def compute_relerr(pd, gt):\n",
    "    pd, gt = np.array(pd), np.array(gt)\n",
    "    diff = pd - gt\n",
    "    diff = diff[gt > 0]\n",
    "    gt = gt[gt > 0]\n",
    "    if (diff is not None) and (gt is not None):\n",
    "        rmae = np.mean(np.abs(diff) / gt) * 100\n",
    "        rmse = np.sqrt(np.mean(diff**2 / gt**2)) * 100\n",
    "    else:\n",
    "        rmae = 0\n",
    "        rmse = 0\n",
    "    return rmae, rmse"
   ]
  },
  {
   "cell_type": "markdown",
   "id": "e844b86b",
   "metadata": {},
   "source": [
    "## YOLO Model Evaluation"
   ]
  },
  {
   "cell_type": "code",
   "execution_count": 156,
   "id": "9736189b",
   "metadata": {},
   "outputs": [
    {
     "name": "stderr",
     "output_type": "stream",
     "text": [
      "Using cache found in C:\\Users\\User/.cache\\torch\\hub\\ultralytics_yolov5_master\n",
      "YOLOv5  2022-1-26 torch 1.10.0+cu113 CPU\n",
      "\n",
      "Fusing layers... \n",
      "Model Summary: 213 layers, 7012822 parameters, 0 gradients\n",
      "Adding AutoShape... \n",
      "D:\\anaconda3\\lib\\site-packages\\torch\\autocast_mode.py:141: UserWarning: User provided device_type of 'cuda', but CUDA is not available. Disabling\n",
      "  warnings.warn('User provided device_type of \\'cuda\\', but CUDA is not available. Disabling')\n"
     ]
    },
    {
     "name": "stdout",
     "output_type": "stream",
     "text": [
      "name:T0001_XM_20110807100242_01.jpg, pd_count:5, gt_count:3\n"
     ]
    },
    {
     "name": "stderr",
     "output_type": "stream",
     "text": [
      "D:\\anaconda3\\lib\\site-packages\\torch\\autocast_mode.py:141: UserWarning: User provided device_type of 'cuda', but CUDA is not available. Disabling\n",
      "  warnings.warn('User provided device_type of \\'cuda\\', but CUDA is not available. Disabling')\n"
     ]
    },
    {
     "name": "stdout",
     "output_type": "stream",
     "text": [
      "name:T0001_XM_20110807130247_01.jpg, pd_count:5, gt_count:3\n"
     ]
    },
    {
     "name": "stderr",
     "output_type": "stream",
     "text": [
      "D:\\anaconda3\\lib\\site-packages\\torch\\autocast_mode.py:141: UserWarning: User provided device_type of 'cuda', but CUDA is not available. Disabling\n",
      "  warnings.warn('User provided device_type of \\'cuda\\', but CUDA is not available. Disabling')\n"
     ]
    },
    {
     "name": "stdout",
     "output_type": "stream",
     "text": [
      "name:T0001_XM_20110808100247_01.jpg, pd_count:13, gt_count:6\n"
     ]
    },
    {
     "name": "stderr",
     "output_type": "stream",
     "text": [
      "D:\\anaconda3\\lib\\site-packages\\torch\\autocast_mode.py:141: UserWarning: User provided device_type of 'cuda', but CUDA is not available. Disabling\n",
      "  warnings.warn('User provided device_type of \\'cuda\\', but CUDA is not available. Disabling')\n"
     ]
    },
    {
     "name": "stdout",
     "output_type": "stream",
     "text": [
      "name:T0001_XM_20110808160246_01.jpg, pd_count:11, gt_count:7\n"
     ]
    },
    {
     "name": "stderr",
     "output_type": "stream",
     "text": [
      "D:\\anaconda3\\lib\\site-packages\\torch\\autocast_mode.py:141: UserWarning: User provided device_type of 'cuda', but CUDA is not available. Disabling\n",
      "  warnings.warn('User provided device_type of \\'cuda\\', but CUDA is not available. Disabling')\n"
     ]
    },
    {
     "name": "stdout",
     "output_type": "stream",
     "text": [
      "name:T0001_XM_20110809100242_01.jpg, pd_count:22, gt_count:12\n"
     ]
    },
    {
     "name": "stderr",
     "output_type": "stream",
     "text": [
      "D:\\anaconda3\\lib\\site-packages\\torch\\autocast_mode.py:141: UserWarning: User provided device_type of 'cuda', but CUDA is not available. Disabling\n",
      "  warnings.warn('User provided device_type of \\'cuda\\', but CUDA is not available. Disabling')\n"
     ]
    },
    {
     "name": "stdout",
     "output_type": "stream",
     "text": [
      "name:T0001_XM_20110809120248_01.jpg, pd_count:17, gt_count:12\n"
     ]
    },
    {
     "name": "stderr",
     "output_type": "stream",
     "text": [
      "D:\\anaconda3\\lib\\site-packages\\torch\\autocast_mode.py:141: UserWarning: User provided device_type of 'cuda', but CUDA is not available. Disabling\n",
      "  warnings.warn('User provided device_type of \\'cuda\\', but CUDA is not available. Disabling')\n"
     ]
    },
    {
     "name": "stdout",
     "output_type": "stream",
     "text": [
      "name:T0001_XM_20110809160242_01.jpg, pd_count:20, gt_count:12\n"
     ]
    },
    {
     "name": "stderr",
     "output_type": "stream",
     "text": [
      "D:\\anaconda3\\lib\\site-packages\\torch\\autocast_mode.py:141: UserWarning: User provided device_type of 'cuda', but CUDA is not available. Disabling\n",
      "  warnings.warn('User provided device_type of \\'cuda\\', but CUDA is not available. Disabling')\n"
     ]
    },
    {
     "name": "stdout",
     "output_type": "stream",
     "text": [
      "name:T0001_XM_20110810100242_01.jpg, pd_count:37, gt_count:23\n"
     ]
    },
    {
     "name": "stderr",
     "output_type": "stream",
     "text": [
      "D:\\anaconda3\\lib\\site-packages\\torch\\autocast_mode.py:141: UserWarning: User provided device_type of 'cuda', but CUDA is not available. Disabling\n",
      "  warnings.warn('User provided device_type of \\'cuda\\', but CUDA is not available. Disabling')\n"
     ]
    },
    {
     "name": "stdout",
     "output_type": "stream",
     "text": [
      "name:T0001_XM_20110810160246_01.jpg, pd_count:32, gt_count:22\n"
     ]
    },
    {
     "name": "stderr",
     "output_type": "stream",
     "text": [
      "D:\\anaconda3\\lib\\site-packages\\torch\\autocast_mode.py:141: UserWarning: User provided device_type of 'cuda', but CUDA is not available. Disabling\n",
      "  warnings.warn('User provided device_type of \\'cuda\\', but CUDA is not available. Disabling')\n"
     ]
    },
    {
     "name": "stdout",
     "output_type": "stream",
     "text": [
      "name:T0001_XM_20110811100244_01.jpg, pd_count:40, gt_count:31\n"
     ]
    },
    {
     "name": "stderr",
     "output_type": "stream",
     "text": [
      "D:\\anaconda3\\lib\\site-packages\\torch\\autocast_mode.py:141: UserWarning: User provided device_type of 'cuda', but CUDA is not available. Disabling\n",
      "  warnings.warn('User provided device_type of \\'cuda\\', but CUDA is not available. Disabling')\n"
     ]
    },
    {
     "name": "stdout",
     "output_type": "stream",
     "text": [
      "name:T0001_XM_20110811120244_01.jpg, pd_count:42, gt_count:27\n"
     ]
    },
    {
     "name": "stderr",
     "output_type": "stream",
     "text": [
      "D:\\anaconda3\\lib\\site-packages\\torch\\autocast_mode.py:141: UserWarning: User provided device_type of 'cuda', but CUDA is not available. Disabling\n",
      "  warnings.warn('User provided device_type of \\'cuda\\', but CUDA is not available. Disabling')\n"
     ]
    },
    {
     "name": "stdout",
     "output_type": "stream",
     "text": [
      "name:T0001_XM_20110811140245_01.jpg, pd_count:38, gt_count:28\n"
     ]
    },
    {
     "name": "stderr",
     "output_type": "stream",
     "text": [
      "D:\\anaconda3\\lib\\site-packages\\torch\\autocast_mode.py:141: UserWarning: User provided device_type of 'cuda', but CUDA is not available. Disabling\n",
      "  warnings.warn('User provided device_type of \\'cuda\\', but CUDA is not available. Disabling')\n"
     ]
    },
    {
     "name": "stdout",
     "output_type": "stream",
     "text": [
      "name:T0001_XM_20110811160245_01.jpg, pd_count:43, gt_count:28\n"
     ]
    },
    {
     "name": "stderr",
     "output_type": "stream",
     "text": [
      "D:\\anaconda3\\lib\\site-packages\\torch\\autocast_mode.py:141: UserWarning: User provided device_type of 'cuda', but CUDA is not available. Disabling\n",
      "  warnings.warn('User provided device_type of \\'cuda\\', but CUDA is not available. Disabling')\n"
     ]
    },
    {
     "name": "stdout",
     "output_type": "stream",
     "text": [
      "name:T0001_XM_20110812100243_01.jpg, pd_count:55, gt_count:38\n"
     ]
    },
    {
     "name": "stderr",
     "output_type": "stream",
     "text": [
      "D:\\anaconda3\\lib\\site-packages\\torch\\autocast_mode.py:141: UserWarning: User provided device_type of 'cuda', but CUDA is not available. Disabling\n",
      "  warnings.warn('User provided device_type of \\'cuda\\', but CUDA is not available. Disabling')\n"
     ]
    },
    {
     "name": "stdout",
     "output_type": "stream",
     "text": [
      "name:T0001_XM_20110812130242_01.jpg, pd_count:52, gt_count:39\n"
     ]
    },
    {
     "name": "stderr",
     "output_type": "stream",
     "text": [
      "D:\\anaconda3\\lib\\site-packages\\torch\\autocast_mode.py:141: UserWarning: User provided device_type of 'cuda', but CUDA is not available. Disabling\n",
      "  warnings.warn('User provided device_type of \\'cuda\\', but CUDA is not available. Disabling')\n"
     ]
    },
    {
     "name": "stdout",
     "output_type": "stream",
     "text": [
      "name:T0001_XM_20110812160245_01.jpg, pd_count:52, gt_count:44\n"
     ]
    },
    {
     "name": "stderr",
     "output_type": "stream",
     "text": [
      "D:\\anaconda3\\lib\\site-packages\\torch\\autocast_mode.py:141: UserWarning: User provided device_type of 'cuda', but CUDA is not available. Disabling\n",
      "  warnings.warn('User provided device_type of \\'cuda\\', but CUDA is not available. Disabling')\n"
     ]
    },
    {
     "name": "stdout",
     "output_type": "stream",
     "text": [
      "name:T0001_XM_20110813090243_01.jpg, pd_count:61, gt_count:48\n"
     ]
    },
    {
     "name": "stderr",
     "output_type": "stream",
     "text": [
      "D:\\anaconda3\\lib\\site-packages\\torch\\autocast_mode.py:141: UserWarning: User provided device_type of 'cuda', but CUDA is not available. Disabling\n",
      "  warnings.warn('User provided device_type of \\'cuda\\', but CUDA is not available. Disabling')\n"
     ]
    },
    {
     "name": "stdout",
     "output_type": "stream",
     "text": [
      "name:T0001_XM_20110813100247_01.jpg, pd_count:59, gt_count:47\n"
     ]
    },
    {
     "name": "stderr",
     "output_type": "stream",
     "text": [
      "D:\\anaconda3\\lib\\site-packages\\torch\\autocast_mode.py:141: UserWarning: User provided device_type of 'cuda', but CUDA is not available. Disabling\n",
      "  warnings.warn('User provided device_type of \\'cuda\\', but CUDA is not available. Disabling')\n"
     ]
    },
    {
     "name": "stdout",
     "output_type": "stream",
     "text": [
      "name:T0001_XM_20110813160244_01.jpg, pd_count:56, gt_count:44\n"
     ]
    },
    {
     "name": "stderr",
     "output_type": "stream",
     "text": [
      "D:\\anaconda3\\lib\\site-packages\\torch\\autocast_mode.py:141: UserWarning: User provided device_type of 'cuda', but CUDA is not available. Disabling\n",
      "  warnings.warn('User provided device_type of \\'cuda\\', but CUDA is not available. Disabling')\n"
     ]
    },
    {
     "name": "stdout",
     "output_type": "stream",
     "text": [
      "name:T0001_XM_20120802110255_02.jpg, pd_count:4, gt_count:1\n"
     ]
    },
    {
     "name": "stderr",
     "output_type": "stream",
     "text": [
      "D:\\anaconda3\\lib\\site-packages\\torch\\autocast_mode.py:141: UserWarning: User provided device_type of 'cuda', but CUDA is not available. Disabling\n",
      "  warnings.warn('User provided device_type of \\'cuda\\', but CUDA is not available. Disabling')\n"
     ]
    },
    {
     "name": "stdout",
     "output_type": "stream",
     "text": [
      "name:T0001_XM_20120802140257_02.jpg, pd_count:2, gt_count:1\n"
     ]
    },
    {
     "name": "stderr",
     "output_type": "stream",
     "text": [
      "D:\\anaconda3\\lib\\site-packages\\torch\\autocast_mode.py:141: UserWarning: User provided device_type of 'cuda', but CUDA is not available. Disabling\n",
      "  warnings.warn('User provided device_type of \\'cuda\\', but CUDA is not available. Disabling')\n"
     ]
    },
    {
     "name": "stdout",
     "output_type": "stream",
     "text": [
      "name:T0001_XM_20120802160252_02.jpg, pd_count:6, gt_count:1\n"
     ]
    },
    {
     "name": "stderr",
     "output_type": "stream",
     "text": [
      "D:\\anaconda3\\lib\\site-packages\\torch\\autocast_mode.py:141: UserWarning: User provided device_type of 'cuda', but CUDA is not available. Disabling\n",
      "  warnings.warn('User provided device_type of \\'cuda\\', but CUDA is not available. Disabling')\n"
     ]
    },
    {
     "name": "stdout",
     "output_type": "stream",
     "text": [
      "name:T0001_XM_20120803090254_02.jpg, pd_count:7, gt_count:3\n"
     ]
    },
    {
     "name": "stderr",
     "output_type": "stream",
     "text": [
      "D:\\anaconda3\\lib\\site-packages\\torch\\autocast_mode.py:141: UserWarning: User provided device_type of 'cuda', but CUDA is not available. Disabling\n",
      "  warnings.warn('User provided device_type of \\'cuda\\', but CUDA is not available. Disabling')\n"
     ]
    },
    {
     "name": "stdout",
     "output_type": "stream",
     "text": [
      "name:T0001_XM_20120803100257_02.jpg, pd_count:13, gt_count:3\n"
     ]
    },
    {
     "name": "stderr",
     "output_type": "stream",
     "text": [
      "D:\\anaconda3\\lib\\site-packages\\torch\\autocast_mode.py:141: UserWarning: User provided device_type of 'cuda', but CUDA is not available. Disabling\n",
      "  warnings.warn('User provided device_type of \\'cuda\\', but CUDA is not available. Disabling')\n"
     ]
    },
    {
     "name": "stdout",
     "output_type": "stream",
     "text": [
      "name:T0001_XM_20120803120254_02.jpg, pd_count:13, gt_count:3\n"
     ]
    },
    {
     "name": "stderr",
     "output_type": "stream",
     "text": [
      "D:\\anaconda3\\lib\\site-packages\\torch\\autocast_mode.py:141: UserWarning: User provided device_type of 'cuda', but CUDA is not available. Disabling\n",
      "  warnings.warn('User provided device_type of \\'cuda\\', but CUDA is not available. Disabling')\n"
     ]
    },
    {
     "name": "stdout",
     "output_type": "stream",
     "text": [
      "name:T0001_XM_20120803160256_02.jpg, pd_count:17, gt_count:4\n"
     ]
    },
    {
     "name": "stderr",
     "output_type": "stream",
     "text": [
      "D:\\anaconda3\\lib\\site-packages\\torch\\autocast_mode.py:141: UserWarning: User provided device_type of 'cuda', but CUDA is not available. Disabling\n",
      "  warnings.warn('User provided device_type of \\'cuda\\', but CUDA is not available. Disabling')\n"
     ]
    },
    {
     "name": "stdout",
     "output_type": "stream",
     "text": [
      "name:T0001_XM_20120804100258_02.jpg, pd_count:31, gt_count:7\n"
     ]
    },
    {
     "name": "stderr",
     "output_type": "stream",
     "text": [
      "D:\\anaconda3\\lib\\site-packages\\torch\\autocast_mode.py:141: UserWarning: User provided device_type of 'cuda', but CUDA is not available. Disabling\n",
      "  warnings.warn('User provided device_type of \\'cuda\\', but CUDA is not available. Disabling')\n"
     ]
    },
    {
     "name": "stdout",
     "output_type": "stream",
     "text": [
      "name:T0001_XM_20120804160257_02.jpg, pd_count:37, gt_count:7\n"
     ]
    },
    {
     "name": "stderr",
     "output_type": "stream",
     "text": [
      "D:\\anaconda3\\lib\\site-packages\\torch\\autocast_mode.py:141: UserWarning: User provided device_type of 'cuda', but CUDA is not available. Disabling\n",
      "  warnings.warn('User provided device_type of \\'cuda\\', but CUDA is not available. Disabling')\n"
     ]
    },
    {
     "name": "stdout",
     "output_type": "stream",
     "text": [
      "name:T0001_XM_20120805090254_02.jpg, pd_count:42, gt_count:11\n"
     ]
    },
    {
     "name": "stderr",
     "output_type": "stream",
     "text": [
      "D:\\anaconda3\\lib\\site-packages\\torch\\autocast_mode.py:141: UserWarning: User provided device_type of 'cuda', but CUDA is not available. Disabling\n",
      "  warnings.warn('User provided device_type of \\'cuda\\', but CUDA is not available. Disabling')\n"
     ]
    },
    {
     "name": "stdout",
     "output_type": "stream",
     "text": [
      "name:T0001_XM_20120805100258_02.jpg, pd_count:44, gt_count:24\n"
     ]
    },
    {
     "name": "stderr",
     "output_type": "stream",
     "text": [
      "D:\\anaconda3\\lib\\site-packages\\torch\\autocast_mode.py:141: UserWarning: User provided device_type of 'cuda', but CUDA is not available. Disabling\n",
      "  warnings.warn('User provided device_type of \\'cuda\\', but CUDA is not available. Disabling')\n"
     ]
    },
    {
     "name": "stdout",
     "output_type": "stream",
     "text": [
      "name:T0001_XM_20120805110255_02.jpg, pd_count:39, gt_count:16\n"
     ]
    },
    {
     "name": "stderr",
     "output_type": "stream",
     "text": [
      "D:\\anaconda3\\lib\\site-packages\\torch\\autocast_mode.py:141: UserWarning: User provided device_type of 'cuda', but CUDA is not available. Disabling\n",
      "  warnings.warn('User provided device_type of \\'cuda\\', but CUDA is not available. Disabling')\n"
     ]
    },
    {
     "name": "stdout",
     "output_type": "stream",
     "text": [
      "name:T0001_XM_20120805120252_02.jpg, pd_count:39, gt_count:32\n"
     ]
    },
    {
     "name": "stderr",
     "output_type": "stream",
     "text": [
      "D:\\anaconda3\\lib\\site-packages\\torch\\autocast_mode.py:141: UserWarning: User provided device_type of 'cuda', but CUDA is not available. Disabling\n",
      "  warnings.warn('User provided device_type of \\'cuda\\', but CUDA is not available. Disabling')\n"
     ]
    },
    {
     "name": "stdout",
     "output_type": "stream",
     "text": [
      "name:T0001_XM_20120805130255_02.jpg, pd_count:45, gt_count:26\n"
     ]
    },
    {
     "name": "stderr",
     "output_type": "stream",
     "text": [
      "D:\\anaconda3\\lib\\site-packages\\torch\\autocast_mode.py:141: UserWarning: User provided device_type of 'cuda', but CUDA is not available. Disabling\n",
      "  warnings.warn('User provided device_type of \\'cuda\\', but CUDA is not available. Disabling')\n"
     ]
    },
    {
     "name": "stdout",
     "output_type": "stream",
     "text": [
      "name:T0001_XM_20120805140252_02.jpg, pd_count:48, gt_count:30\n"
     ]
    },
    {
     "name": "stderr",
     "output_type": "stream",
     "text": [
      "D:\\anaconda3\\lib\\site-packages\\torch\\autocast_mode.py:141: UserWarning: User provided device_type of 'cuda', but CUDA is not available. Disabling\n",
      "  warnings.warn('User provided device_type of \\'cuda\\', but CUDA is not available. Disabling')\n"
     ]
    },
    {
     "name": "stdout",
     "output_type": "stream",
     "text": [
      "name:T0001_XM_20120805150254_02.jpg, pd_count:49, gt_count:34\n"
     ]
    },
    {
     "name": "stderr",
     "output_type": "stream",
     "text": [
      "D:\\anaconda3\\lib\\site-packages\\torch\\autocast_mode.py:141: UserWarning: User provided device_type of 'cuda', but CUDA is not available. Disabling\n",
      "  warnings.warn('User provided device_type of \\'cuda\\', but CUDA is not available. Disabling')\n"
     ]
    },
    {
     "name": "stdout",
     "output_type": "stream",
     "text": [
      "name:T0001_XM_20120805160256_02.jpg, pd_count:51, gt_count:41\n"
     ]
    },
    {
     "name": "stderr",
     "output_type": "stream",
     "text": [
      "D:\\anaconda3\\lib\\site-packages\\torch\\autocast_mode.py:141: UserWarning: User provided device_type of 'cuda', but CUDA is not available. Disabling\n",
      "  warnings.warn('User provided device_type of \\'cuda\\', but CUDA is not available. Disabling')\n"
     ]
    },
    {
     "name": "stdout",
     "output_type": "stream",
     "text": [
      "name:T0001_XM_20120806130253_02.jpg, pd_count:55, gt_count:42\n"
     ]
    },
    {
     "name": "stderr",
     "output_type": "stream",
     "text": [
      "D:\\anaconda3\\lib\\site-packages\\torch\\autocast_mode.py:141: UserWarning: User provided device_type of 'cuda', but CUDA is not available. Disabling\n",
      "  warnings.warn('User provided device_type of \\'cuda\\', but CUDA is not available. Disabling')\n"
     ]
    },
    {
     "name": "stdout",
     "output_type": "stream",
     "text": [
      "name:T0001_XM_20120806150256_02.jpg, pd_count:54, gt_count:40\n"
     ]
    },
    {
     "name": "stderr",
     "output_type": "stream",
     "text": [
      "D:\\anaconda3\\lib\\site-packages\\torch\\autocast_mode.py:141: UserWarning: User provided device_type of 'cuda', but CUDA is not available. Disabling\n",
      "  warnings.warn('User provided device_type of \\'cuda\\', but CUDA is not available. Disabling')\n"
     ]
    },
    {
     "name": "stdout",
     "output_type": "stream",
     "text": [
      "name:T0001_XM_20120807090254_02.jpg, pd_count:56, gt_count:45\n"
     ]
    },
    {
     "name": "stderr",
     "output_type": "stream",
     "text": [
      "D:\\anaconda3\\lib\\site-packages\\torch\\autocast_mode.py:141: UserWarning: User provided device_type of 'cuda', but CUDA is not available. Disabling\n",
      "  warnings.warn('User provided device_type of \\'cuda\\', but CUDA is not available. Disabling')\n"
     ]
    },
    {
     "name": "stdout",
     "output_type": "stream",
     "text": [
      "name:T0001_XM_20120807150255_02.jpg, pd_count:60, gt_count:48\n"
     ]
    },
    {
     "name": "stderr",
     "output_type": "stream",
     "text": [
      "D:\\anaconda3\\lib\\site-packages\\torch\\autocast_mode.py:141: UserWarning: User provided device_type of 'cuda', but CUDA is not available. Disabling\n",
      "  warnings.warn('User provided device_type of \\'cuda\\', but CUDA is not available. Disabling')\n"
     ]
    },
    {
     "name": "stdout",
     "output_type": "stream",
     "text": [
      "name:T0001_XM_20130807100253_02.jpg, pd_count:23, gt_count:7\n"
     ]
    },
    {
     "name": "stderr",
     "output_type": "stream",
     "text": [
      "D:\\anaconda3\\lib\\site-packages\\torch\\autocast_mode.py:141: UserWarning: User provided device_type of 'cuda', but CUDA is not available. Disabling\n",
      "  warnings.warn('User provided device_type of \\'cuda\\', but CUDA is not available. Disabling')\n"
     ]
    },
    {
     "name": "stdout",
     "output_type": "stream",
     "text": [
      "name:T0001_XM_20130808110252_02.jpg, pd_count:41, gt_count:20\n"
     ]
    },
    {
     "name": "stderr",
     "output_type": "stream",
     "text": [
      "D:\\anaconda3\\lib\\site-packages\\torch\\autocast_mode.py:141: UserWarning: User provided device_type of 'cuda', but CUDA is not available. Disabling\n",
      "  warnings.warn('User provided device_type of \\'cuda\\', but CUDA is not available. Disabling')\n"
     ]
    },
    {
     "name": "stdout",
     "output_type": "stream",
     "text": [
      "name:T0001_XM_20130809120253_02.jpg, pd_count:46, gt_count:23\n"
     ]
    },
    {
     "name": "stderr",
     "output_type": "stream",
     "text": [
      "D:\\anaconda3\\lib\\site-packages\\torch\\autocast_mode.py:141: UserWarning: User provided device_type of 'cuda', but CUDA is not available. Disabling\n",
      "  warnings.warn('User provided device_type of \\'cuda\\', but CUDA is not available. Disabling')\n"
     ]
    },
    {
     "name": "stdout",
     "output_type": "stream",
     "text": [
      "name:T0001_XM_20130810100251_02.jpg, pd_count:60, gt_count:24\n"
     ]
    },
    {
     "name": "stderr",
     "output_type": "stream",
     "text": [
      "D:\\anaconda3\\lib\\site-packages\\torch\\autocast_mode.py:141: UserWarning: User provided device_type of 'cuda', but CUDA is not available. Disabling\n",
      "  warnings.warn('User provided device_type of \\'cuda\\', but CUDA is not available. Disabling')\n"
     ]
    },
    {
     "name": "stdout",
     "output_type": "stream",
     "text": [
      "name:T0001_YM_20100802100241_01.jpg, pd_count:21, gt_count:6\n"
     ]
    },
    {
     "name": "stderr",
     "output_type": "stream",
     "text": [
      "D:\\anaconda3\\lib\\site-packages\\torch\\autocast_mode.py:141: UserWarning: User provided device_type of 'cuda', but CUDA is not available. Disabling\n",
      "  warnings.warn('User provided device_type of \\'cuda\\', but CUDA is not available. Disabling')\n"
     ]
    },
    {
     "name": "stdout",
     "output_type": "stream",
     "text": [
      "name:T0001_YM_20100802160235_01.jpg, pd_count:21, gt_count:5\n"
     ]
    },
    {
     "name": "stderr",
     "output_type": "stream",
     "text": [
      "D:\\anaconda3\\lib\\site-packages\\torch\\autocast_mode.py:141: UserWarning: User provided device_type of 'cuda', but CUDA is not available. Disabling\n",
      "  warnings.warn('User provided device_type of \\'cuda\\', but CUDA is not available. Disabling')\n"
     ]
    },
    {
     "name": "stdout",
     "output_type": "stream",
     "text": [
      "name:T0001_YM_20100803100238_01.jpg, pd_count:44, gt_count:16\n"
     ]
    },
    {
     "name": "stderr",
     "output_type": "stream",
     "text": [
      "D:\\anaconda3\\lib\\site-packages\\torch\\autocast_mode.py:141: UserWarning: User provided device_type of 'cuda', but CUDA is not available. Disabling\n",
      "  warnings.warn('User provided device_type of \\'cuda\\', but CUDA is not available. Disabling')\n"
     ]
    },
    {
     "name": "stdout",
     "output_type": "stream",
     "text": [
      "name:T0001_YM_20100803160241_01.jpg, pd_count:38, gt_count:19\n"
     ]
    },
    {
     "name": "stderr",
     "output_type": "stream",
     "text": [
      "D:\\anaconda3\\lib\\site-packages\\torch\\autocast_mode.py:141: UserWarning: User provided device_type of 'cuda', but CUDA is not available. Disabling\n",
      "  warnings.warn('User provided device_type of \\'cuda\\', but CUDA is not available. Disabling')\n"
     ]
    },
    {
     "name": "stdout",
     "output_type": "stream",
     "text": [
      "name:T0001_YM_20100804100235_01.jpg, pd_count:61, gt_count:35\n"
     ]
    },
    {
     "name": "stderr",
     "output_type": "stream",
     "text": [
      "D:\\anaconda3\\lib\\site-packages\\torch\\autocast_mode.py:141: UserWarning: User provided device_type of 'cuda', but CUDA is not available. Disabling\n",
      "  warnings.warn('User provided device_type of \\'cuda\\', but CUDA is not available. Disabling')\n"
     ]
    },
    {
     "name": "stdout",
     "output_type": "stream",
     "text": [
      "name:T0001_YM_20100804140239_01.jpg, pd_count:54, gt_count:31\n"
     ]
    },
    {
     "name": "stderr",
     "output_type": "stream",
     "text": [
      "D:\\anaconda3\\lib\\site-packages\\torch\\autocast_mode.py:141: UserWarning: User provided device_type of 'cuda', but CUDA is not available. Disabling\n",
      "  warnings.warn('User provided device_type of \\'cuda\\', but CUDA is not available. Disabling')\n"
     ]
    },
    {
     "name": "stdout",
     "output_type": "stream",
     "text": [
      "name:T0001_YM_20100804160240_01.jpg, pd_count:59, gt_count:38\n"
     ]
    },
    {
     "name": "stderr",
     "output_type": "stream",
     "text": [
      "D:\\anaconda3\\lib\\site-packages\\torch\\autocast_mode.py:141: UserWarning: User provided device_type of 'cuda', but CUDA is not available. Disabling\n",
      "  warnings.warn('User provided device_type of \\'cuda\\', but CUDA is not available. Disabling')\n"
     ]
    },
    {
     "name": "stdout",
     "output_type": "stream",
     "text": [
      "name:T0001_YM_20100805100237_01.jpg, pd_count:69, gt_count:55\n"
     ]
    },
    {
     "name": "stderr",
     "output_type": "stream",
     "text": [
      "D:\\anaconda3\\lib\\site-packages\\torch\\autocast_mode.py:141: UserWarning: User provided device_type of 'cuda', but CUDA is not available. Disabling\n",
      "  warnings.warn('User provided device_type of \\'cuda\\', but CUDA is not available. Disabling')\n"
     ]
    },
    {
     "name": "stdout",
     "output_type": "stream",
     "text": [
      "name:T0001_YM_20100805120236_01.jpg, pd_count:73, gt_count:53\n"
     ]
    },
    {
     "name": "stderr",
     "output_type": "stream",
     "text": [
      "D:\\anaconda3\\lib\\site-packages\\torch\\autocast_mode.py:141: UserWarning: User provided device_type of 'cuda', but CUDA is not available. Disabling\n",
      "  warnings.warn('User provided device_type of \\'cuda\\', but CUDA is not available. Disabling')\n"
     ]
    },
    {
     "name": "stdout",
     "output_type": "stream",
     "text": [
      "name:T0001_YM_20100805130235_01.jpg, pd_count:71, gt_count:53\n"
     ]
    },
    {
     "name": "stderr",
     "output_type": "stream",
     "text": [
      "D:\\anaconda3\\lib\\site-packages\\torch\\autocast_mode.py:141: UserWarning: User provided device_type of 'cuda', but CUDA is not available. Disabling\n",
      "  warnings.warn('User provided device_type of \\'cuda\\', but CUDA is not available. Disabling')\n"
     ]
    },
    {
     "name": "stdout",
     "output_type": "stream",
     "text": [
      "name:T0001_YM_20100805140235_01.jpg, pd_count:68, gt_count:54\n"
     ]
    },
    {
     "name": "stderr",
     "output_type": "stream",
     "text": [
      "D:\\anaconda3\\lib\\site-packages\\torch\\autocast_mode.py:141: UserWarning: User provided device_type of 'cuda', but CUDA is not available. Disabling\n",
      "  warnings.warn('User provided device_type of \\'cuda\\', but CUDA is not available. Disabling')\n"
     ]
    },
    {
     "name": "stdout",
     "output_type": "stream",
     "text": [
      "name:T0001_YM_20100805150240_01.jpg, pd_count:67, gt_count:41\n"
     ]
    },
    {
     "name": "stderr",
     "output_type": "stream",
     "text": [
      "D:\\anaconda3\\lib\\site-packages\\torch\\autocast_mode.py:141: UserWarning: User provided device_type of 'cuda', but CUDA is not available. Disabling\n",
      "  warnings.warn('User provided device_type of \\'cuda\\', but CUDA is not available. Disabling')\n"
     ]
    },
    {
     "name": "stdout",
     "output_type": "stream",
     "text": [
      "name:T0001_YM_20100805160240_01.jpg, pd_count:57, gt_count:34\n"
     ]
    },
    {
     "name": "stderr",
     "output_type": "stream",
     "text": [
      "D:\\anaconda3\\lib\\site-packages\\torch\\autocast_mode.py:141: UserWarning: User provided device_type of 'cuda', but CUDA is not available. Disabling\n",
      "  warnings.warn('User provided device_type of \\'cuda\\', but CUDA is not available. Disabling')\n"
     ]
    },
    {
     "name": "stdout",
     "output_type": "stream",
     "text": [
      "name:T0001_YM_20100806090236_01.jpg, pd_count:78, gt_count:61\n"
     ]
    },
    {
     "name": "stderr",
     "output_type": "stream",
     "text": [
      "D:\\anaconda3\\lib\\site-packages\\torch\\autocast_mode.py:141: UserWarning: User provided device_type of 'cuda', but CUDA is not available. Disabling\n",
      "  warnings.warn('User provided device_type of \\'cuda\\', but CUDA is not available. Disabling')\n"
     ]
    },
    {
     "name": "stdout",
     "output_type": "stream",
     "text": [
      "name:T0001_YM_20100806100235_01.jpg, pd_count:73, gt_count:62\n"
     ]
    },
    {
     "name": "stderr",
     "output_type": "stream",
     "text": [
      "D:\\anaconda3\\lib\\site-packages\\torch\\autocast_mode.py:141: UserWarning: User provided device_type of 'cuda', but CUDA is not available. Disabling\n",
      "  warnings.warn('User provided device_type of \\'cuda\\', but CUDA is not available. Disabling')\n"
     ]
    },
    {
     "name": "stdout",
     "output_type": "stream",
     "text": [
      "name:T0001_YM_20100806110235_01.jpg, pd_count:77, gt_count:60\n"
     ]
    },
    {
     "name": "stderr",
     "output_type": "stream",
     "text": [
      "D:\\anaconda3\\lib\\site-packages\\torch\\autocast_mode.py:141: UserWarning: User provided device_type of 'cuda', but CUDA is not available. Disabling\n",
      "  warnings.warn('User provided device_type of \\'cuda\\', but CUDA is not available. Disabling')\n"
     ]
    },
    {
     "name": "stdout",
     "output_type": "stream",
     "text": [
      "name:T0001_YM_20100806120242_01.jpg, pd_count:74, gt_count:50\n"
     ]
    },
    {
     "name": "stderr",
     "output_type": "stream",
     "text": [
      "D:\\anaconda3\\lib\\site-packages\\torch\\autocast_mode.py:141: UserWarning: User provided device_type of 'cuda', but CUDA is not available. Disabling\n",
      "  warnings.warn('User provided device_type of \\'cuda\\', but CUDA is not available. Disabling')\n"
     ]
    },
    {
     "name": "stdout",
     "output_type": "stream",
     "text": [
      "name:T0001_YM_20100806130240_01.jpg, pd_count:68, gt_count:52\n"
     ]
    },
    {
     "name": "stderr",
     "output_type": "stream",
     "text": [
      "D:\\anaconda3\\lib\\site-packages\\torch\\autocast_mode.py:141: UserWarning: User provided device_type of 'cuda', but CUDA is not available. Disabling\n",
      "  warnings.warn('User provided device_type of \\'cuda\\', but CUDA is not available. Disabling')\n"
     ]
    },
    {
     "name": "stdout",
     "output_type": "stream",
     "text": [
      "name:T0001_YM_20100806140240_01.jpg, pd_count:70, gt_count:53\n"
     ]
    },
    {
     "name": "stderr",
     "output_type": "stream",
     "text": [
      "D:\\anaconda3\\lib\\site-packages\\torch\\autocast_mode.py:141: UserWarning: User provided device_type of 'cuda', but CUDA is not available. Disabling\n",
      "  warnings.warn('User provided device_type of \\'cuda\\', but CUDA is not available. Disabling')\n"
     ]
    },
    {
     "name": "stdout",
     "output_type": "stream",
     "text": [
      "name:T0001_YM_20100806150239_01.jpg, pd_count:67, gt_count:51\n"
     ]
    },
    {
     "name": "stderr",
     "output_type": "stream",
     "text": [
      "D:\\anaconda3\\lib\\site-packages\\torch\\autocast_mode.py:141: UserWarning: User provided device_type of 'cuda', but CUDA is not available. Disabling\n",
      "  warnings.warn('User provided device_type of \\'cuda\\', but CUDA is not available. Disabling')\n"
     ]
    },
    {
     "name": "stdout",
     "output_type": "stream",
     "text": [
      "name:T0001_YM_20100806160239_01.jpg, pd_count:70, gt_count:57\n"
     ]
    },
    {
     "name": "stderr",
     "output_type": "stream",
     "text": [
      "D:\\anaconda3\\lib\\site-packages\\torch\\autocast_mode.py:141: UserWarning: User provided device_type of 'cuda', but CUDA is not available. Disabling\n",
      "  warnings.warn('User provided device_type of \\'cuda\\', but CUDA is not available. Disabling')\n"
     ]
    },
    {
     "name": "stdout",
     "output_type": "stream",
     "text": [
      "name:T0001_YM_20100807090237_01.jpg, pd_count:81, gt_count:66\n"
     ]
    },
    {
     "name": "stderr",
     "output_type": "stream",
     "text": [
      "D:\\anaconda3\\lib\\site-packages\\torch\\autocast_mode.py:141: UserWarning: User provided device_type of 'cuda', but CUDA is not available. Disabling\n",
      "  warnings.warn('User provided device_type of \\'cuda\\', but CUDA is not available. Disabling')\n"
     ]
    },
    {
     "name": "stdout",
     "output_type": "stream",
     "text": [
      "name:T0001_YM_20100807100236_01.jpg, pd_count:86, gt_count:63\n"
     ]
    },
    {
     "name": "stderr",
     "output_type": "stream",
     "text": [
      "D:\\anaconda3\\lib\\site-packages\\torch\\autocast_mode.py:141: UserWarning: User provided device_type of 'cuda', but CUDA is not available. Disabling\n",
      "  warnings.warn('User provided device_type of \\'cuda\\', but CUDA is not available. Disabling')\n"
     ]
    },
    {
     "name": "stdout",
     "output_type": "stream",
     "text": [
      "name:T0001_YM_20100807110237_01.jpg, pd_count:84, gt_count:62\n"
     ]
    },
    {
     "name": "stderr",
     "output_type": "stream",
     "text": [
      "D:\\anaconda3\\lib\\site-packages\\torch\\autocast_mode.py:141: UserWarning: User provided device_type of 'cuda', but CUDA is not available. Disabling\n",
      "  warnings.warn('User provided device_type of \\'cuda\\', but CUDA is not available. Disabling')\n"
     ]
    },
    {
     "name": "stdout",
     "output_type": "stream",
     "text": [
      "name:T0001_YM_20100807160235_01.jpg, pd_count:77, gt_count:63\n"
     ]
    },
    {
     "name": "stderr",
     "output_type": "stream",
     "text": [
      "D:\\anaconda3\\lib\\site-packages\\torch\\autocast_mode.py:141: UserWarning: User provided device_type of 'cuda', but CUDA is not available. Disabling\n",
      "  warnings.warn('User provided device_type of \\'cuda\\', but CUDA is not available. Disabling')\n"
     ]
    },
    {
     "name": "stdout",
     "output_type": "stream",
     "text": [
      "name:T0001_YM_20100808100235_01.jpg, pd_count:78, gt_count:70\n"
     ]
    },
    {
     "name": "stderr",
     "output_type": "stream",
     "text": [
      "D:\\anaconda3\\lib\\site-packages\\torch\\autocast_mode.py:141: UserWarning: User provided device_type of 'cuda', but CUDA is not available. Disabling\n",
      "  warnings.warn('User provided device_type of \\'cuda\\', but CUDA is not available. Disabling')\n"
     ]
    },
    {
     "name": "stdout",
     "output_type": "stream",
     "text": [
      "name:T0001_YM_20100808110235_01.jpg, pd_count:78, gt_count:71\n"
     ]
    },
    {
     "name": "stderr",
     "output_type": "stream",
     "text": [
      "D:\\anaconda3\\lib\\site-packages\\torch\\autocast_mode.py:141: UserWarning: User provided device_type of 'cuda', but CUDA is not available. Disabling\n",
      "  warnings.warn('User provided device_type of \\'cuda\\', but CUDA is not available. Disabling')\n"
     ]
    },
    {
     "name": "stdout",
     "output_type": "stream",
     "text": [
      "name:T0001_YM_20100808130241_01.jpg, pd_count:80, gt_count:70\n"
     ]
    },
    {
     "name": "stderr",
     "output_type": "stream",
     "text": [
      "D:\\anaconda3\\lib\\site-packages\\torch\\autocast_mode.py:141: UserWarning: User provided device_type of 'cuda', but CUDA is not available. Disabling\n",
      "  warnings.warn('User provided device_type of \\'cuda\\', but CUDA is not available. Disabling')\n"
     ]
    },
    {
     "name": "stdout",
     "output_type": "stream",
     "text": [
      "name:T0001_YM_20100809100235_01.jpg, pd_count:77, gt_count:65\n"
     ]
    },
    {
     "name": "stderr",
     "output_type": "stream",
     "text": [
      "D:\\anaconda3\\lib\\site-packages\\torch\\autocast_mode.py:141: UserWarning: User provided device_type of 'cuda', but CUDA is not available. Disabling\n",
      "  warnings.warn('User provided device_type of \\'cuda\\', but CUDA is not available. Disabling')\n"
     ]
    },
    {
     "name": "stdout",
     "output_type": "stream",
     "text": [
      "name:T0001_YM_20100809130240_01.jpg, pd_count:76, gt_count:67\n"
     ]
    },
    {
     "name": "stderr",
     "output_type": "stream",
     "text": [
      "D:\\anaconda3\\lib\\site-packages\\torch\\autocast_mode.py:141: UserWarning: User provided device_type of 'cuda', but CUDA is not available. Disabling\n",
      "  warnings.warn('User provided device_type of \\'cuda\\', but CUDA is not available. Disabling')\n"
     ]
    },
    {
     "name": "stdout",
     "output_type": "stream",
     "text": [
      "name:T0001_YM_20100809140240_01.jpg, pd_count:80, gt_count:66\n"
     ]
    },
    {
     "name": "stderr",
     "output_type": "stream",
     "text": [
      "D:\\anaconda3\\lib\\site-packages\\torch\\autocast_mode.py:141: UserWarning: User provided device_type of 'cuda', but CUDA is not available. Disabling\n",
      "  warnings.warn('User provided device_type of \\'cuda\\', but CUDA is not available. Disabling')\n"
     ]
    },
    {
     "name": "stdout",
     "output_type": "stream",
     "text": [
      "name:T0001_YM_20100809160239_01.jpg, pd_count:75, gt_count:68\n"
     ]
    },
    {
     "name": "stderr",
     "output_type": "stream",
     "text": [
      "D:\\anaconda3\\lib\\site-packages\\torch\\autocast_mode.py:141: UserWarning: User provided device_type of 'cuda', but CUDA is not available. Disabling\n",
      "  warnings.warn('User provided device_type of \\'cuda\\', but CUDA is not available. Disabling')\n"
     ]
    },
    {
     "name": "stdout",
     "output_type": "stream",
     "text": [
      "name:T0002_XM_20110727100223_01.jpg, pd_count:2, gt_count:1\n"
     ]
    },
    {
     "name": "stderr",
     "output_type": "stream",
     "text": [
      "D:\\anaconda3\\lib\\site-packages\\torch\\autocast_mode.py:141: UserWarning: User provided device_type of 'cuda', but CUDA is not available. Disabling\n",
      "  warnings.warn('User provided device_type of \\'cuda\\', but CUDA is not available. Disabling')\n"
     ]
    },
    {
     "name": "stdout",
     "output_type": "stream",
     "text": [
      "name:T0002_XM_20110727160223_01.jpg, pd_count:2, gt_count:1\n"
     ]
    },
    {
     "name": "stderr",
     "output_type": "stream",
     "text": [
      "D:\\anaconda3\\lib\\site-packages\\torch\\autocast_mode.py:141: UserWarning: User provided device_type of 'cuda', but CUDA is not available. Disabling\n",
      "  warnings.warn('User provided device_type of \\'cuda\\', but CUDA is not available. Disabling')\n"
     ]
    },
    {
     "name": "stdout",
     "output_type": "stream",
     "text": [
      "name:T0002_XM_20110728090224_01.jpg, pd_count:3, gt_count:1\n"
     ]
    },
    {
     "name": "stderr",
     "output_type": "stream",
     "text": [
      "D:\\anaconda3\\lib\\site-packages\\torch\\autocast_mode.py:141: UserWarning: User provided device_type of 'cuda', but CUDA is not available. Disabling\n",
      "  warnings.warn('User provided device_type of \\'cuda\\', but CUDA is not available. Disabling')\n"
     ]
    },
    {
     "name": "stdout",
     "output_type": "stream",
     "text": [
      "name:T0002_XM_20110728110224_01.jpg, pd_count:4, gt_count:1\n"
     ]
    },
    {
     "name": "stderr",
     "output_type": "stream",
     "text": [
      "D:\\anaconda3\\lib\\site-packages\\torch\\autocast_mode.py:141: UserWarning: User provided device_type of 'cuda', but CUDA is not available. Disabling\n",
      "  warnings.warn('User provided device_type of \\'cuda\\', but CUDA is not available. Disabling')\n"
     ]
    },
    {
     "name": "stdout",
     "output_type": "stream",
     "text": [
      "name:T0002_XM_20110728130225_01.jpg, pd_count:2, gt_count:1\n"
     ]
    },
    {
     "name": "stderr",
     "output_type": "stream",
     "text": [
      "D:\\anaconda3\\lib\\site-packages\\torch\\autocast_mode.py:141: UserWarning: User provided device_type of 'cuda', but CUDA is not available. Disabling\n",
      "  warnings.warn('User provided device_type of \\'cuda\\', but CUDA is not available. Disabling')\n"
     ]
    },
    {
     "name": "stdout",
     "output_type": "stream",
     "text": [
      "name:T0002_XM_20110728150223_01.jpg, pd_count:2, gt_count:1\n"
     ]
    },
    {
     "name": "stderr",
     "output_type": "stream",
     "text": [
      "D:\\anaconda3\\lib\\site-packages\\torch\\autocast_mode.py:141: UserWarning: User provided device_type of 'cuda', but CUDA is not available. Disabling\n",
      "  warnings.warn('User provided device_type of \\'cuda\\', but CUDA is not available. Disabling')\n"
     ]
    },
    {
     "name": "stdout",
     "output_type": "stream",
     "text": [
      "name:T0002_XM_20110729110232_01.jpg, pd_count:6, gt_count:2\n"
     ]
    },
    {
     "name": "stderr",
     "output_type": "stream",
     "text": [
      "D:\\anaconda3\\lib\\site-packages\\torch\\autocast_mode.py:141: UserWarning: User provided device_type of 'cuda', but CUDA is not available. Disabling\n",
      "  warnings.warn('User provided device_type of \\'cuda\\', but CUDA is not available. Disabling')\n"
     ]
    },
    {
     "name": "stdout",
     "output_type": "stream",
     "text": [
      "name:T0002_XM_20110729160224_01.jpg, pd_count:6, gt_count:2\n"
     ]
    },
    {
     "name": "stderr",
     "output_type": "stream",
     "text": [
      "D:\\anaconda3\\lib\\site-packages\\torch\\autocast_mode.py:141: UserWarning: User provided device_type of 'cuda', but CUDA is not available. Disabling\n",
      "  warnings.warn('User provided device_type of \\'cuda\\', but CUDA is not available. Disabling')\n"
     ]
    },
    {
     "name": "stdout",
     "output_type": "stream",
     "text": [
      "name:T0002_XM_20110730090225_01.jpg, pd_count:12, gt_count:5\n"
     ]
    },
    {
     "name": "stderr",
     "output_type": "stream",
     "text": [
      "D:\\anaconda3\\lib\\site-packages\\torch\\autocast_mode.py:141: UserWarning: User provided device_type of 'cuda', but CUDA is not available. Disabling\n",
      "  warnings.warn('User provided device_type of \\'cuda\\', but CUDA is not available. Disabling')\n"
     ]
    },
    {
     "name": "stdout",
     "output_type": "stream",
     "text": [
      "name:T0002_XM_20110730100225_01.jpg, pd_count:13, gt_count:6\n"
     ]
    },
    {
     "name": "stderr",
     "output_type": "stream",
     "text": [
      "D:\\anaconda3\\lib\\site-packages\\torch\\autocast_mode.py:141: UserWarning: User provided device_type of 'cuda', but CUDA is not available. Disabling\n",
      "  warnings.warn('User provided device_type of \\'cuda\\', but CUDA is not available. Disabling')\n"
     ]
    },
    {
     "name": "stdout",
     "output_type": "stream",
     "text": [
      "name:T0002_XM_20110730110224_01.jpg, pd_count:13, gt_count:5\n"
     ]
    },
    {
     "name": "stderr",
     "output_type": "stream",
     "text": [
      "D:\\anaconda3\\lib\\site-packages\\torch\\autocast_mode.py:141: UserWarning: User provided device_type of 'cuda', but CUDA is not available. Disabling\n",
      "  warnings.warn('User provided device_type of \\'cuda\\', but CUDA is not available. Disabling')\n"
     ]
    },
    {
     "name": "stdout",
     "output_type": "stream",
     "text": [
      "name:T0002_XM_20110730130223_01.jpg, pd_count:13, gt_count:7\n"
     ]
    },
    {
     "name": "stderr",
     "output_type": "stream",
     "text": [
      "D:\\anaconda3\\lib\\site-packages\\torch\\autocast_mode.py:141: UserWarning: User provided device_type of 'cuda', but CUDA is not available. Disabling\n",
      "  warnings.warn('User provided device_type of \\'cuda\\', but CUDA is not available. Disabling')\n"
     ]
    },
    {
     "name": "stdout",
     "output_type": "stream",
     "text": [
      "name:T0002_XM_20110730160224_01.jpg, pd_count:16, gt_count:7\n"
     ]
    },
    {
     "name": "stderr",
     "output_type": "stream",
     "text": [
      "D:\\anaconda3\\lib\\site-packages\\torch\\autocast_mode.py:141: UserWarning: User provided device_type of 'cuda', but CUDA is not available. Disabling\n",
      "  warnings.warn('User provided device_type of \\'cuda\\', but CUDA is not available. Disabling')\n"
     ]
    },
    {
     "name": "stdout",
     "output_type": "stream",
     "text": [
      "name:T0002_XM_20110731100223_01.jpg, pd_count:21, gt_count:12\n"
     ]
    },
    {
     "name": "stderr",
     "output_type": "stream",
     "text": [
      "D:\\anaconda3\\lib\\site-packages\\torch\\autocast_mode.py:141: UserWarning: User provided device_type of 'cuda', but CUDA is not available. Disabling\n",
      "  warnings.warn('User provided device_type of \\'cuda\\', but CUDA is not available. Disabling')\n"
     ]
    },
    {
     "name": "stdout",
     "output_type": "stream",
     "text": [
      "name:T0002_XM_20110731160223_01.jpg, pd_count:26, gt_count:17\n"
     ]
    },
    {
     "name": "stderr",
     "output_type": "stream",
     "text": [
      "D:\\anaconda3\\lib\\site-packages\\torch\\autocast_mode.py:141: UserWarning: User provided device_type of 'cuda', but CUDA is not available. Disabling\n",
      "  warnings.warn('User provided device_type of \\'cuda\\', but CUDA is not available. Disabling')\n"
     ]
    },
    {
     "name": "stdout",
     "output_type": "stream",
     "text": [
      "name:T0002_XM_20110801090223_01.jpg, pd_count:39, gt_count:25\n"
     ]
    },
    {
     "name": "stderr",
     "output_type": "stream",
     "text": [
      "D:\\anaconda3\\lib\\site-packages\\torch\\autocast_mode.py:141: UserWarning: User provided device_type of 'cuda', but CUDA is not available. Disabling\n",
      "  warnings.warn('User provided device_type of \\'cuda\\', but CUDA is not available. Disabling')\n"
     ]
    },
    {
     "name": "stdout",
     "output_type": "stream",
     "text": [
      "name:T0002_XM_20110801100224_01.jpg, pd_count:40, gt_count:28\n"
     ]
    },
    {
     "name": "stderr",
     "output_type": "stream",
     "text": [
      "D:\\anaconda3\\lib\\site-packages\\torch\\autocast_mode.py:141: UserWarning: User provided device_type of 'cuda', but CUDA is not available. Disabling\n",
      "  warnings.warn('User provided device_type of \\'cuda\\', but CUDA is not available. Disabling')\n"
     ]
    },
    {
     "name": "stdout",
     "output_type": "stream",
     "text": [
      "name:T0002_XM_20110801150224_01.jpg, pd_count:39, gt_count:32\n"
     ]
    },
    {
     "name": "stderr",
     "output_type": "stream",
     "text": [
      "D:\\anaconda3\\lib\\site-packages\\torch\\autocast_mode.py:141: UserWarning: User provided device_type of 'cuda', but CUDA is not available. Disabling\n",
      "  warnings.warn('User provided device_type of \\'cuda\\', but CUDA is not available. Disabling')\n"
     ]
    },
    {
     "name": "stdout",
     "output_type": "stream",
     "text": [
      "name:T0002_XM_20110801160224_01.jpg, pd_count:42, gt_count:33\n"
     ]
    },
    {
     "name": "stderr",
     "output_type": "stream",
     "text": [
      "D:\\anaconda3\\lib\\site-packages\\torch\\autocast_mode.py:141: UserWarning: User provided device_type of 'cuda', but CUDA is not available. Disabling\n",
      "  warnings.warn('User provided device_type of \\'cuda\\', but CUDA is not available. Disabling')\n"
     ]
    },
    {
     "name": "stdout",
     "output_type": "stream",
     "text": [
      "name:T0002_XM_20110802090224_01.jpg, pd_count:44, gt_count:35\n"
     ]
    },
    {
     "name": "stderr",
     "output_type": "stream",
     "text": [
      "D:\\anaconda3\\lib\\site-packages\\torch\\autocast_mode.py:141: UserWarning: User provided device_type of 'cuda', but CUDA is not available. Disabling\n",
      "  warnings.warn('User provided device_type of \\'cuda\\', but CUDA is not available. Disabling')\n"
     ]
    },
    {
     "name": "stdout",
     "output_type": "stream",
     "text": [
      "name:T0002_XM_20110802100228_01.jpg, pd_count:43, gt_count:34\n"
     ]
    },
    {
     "name": "stderr",
     "output_type": "stream",
     "text": [
      "D:\\anaconda3\\lib\\site-packages\\torch\\autocast_mode.py:141: UserWarning: User provided device_type of 'cuda', but CUDA is not available. Disabling\n",
      "  warnings.warn('User provided device_type of \\'cuda\\', but CUDA is not available. Disabling')\n"
     ]
    },
    {
     "name": "stdout",
     "output_type": "stream",
     "text": [
      "name:T0002_XM_20110802110223_01.jpg, pd_count:46, gt_count:38\n"
     ]
    },
    {
     "name": "stderr",
     "output_type": "stream",
     "text": [
      "D:\\anaconda3\\lib\\site-packages\\torch\\autocast_mode.py:141: UserWarning: User provided device_type of 'cuda', but CUDA is not available. Disabling\n",
      "  warnings.warn('User provided device_type of \\'cuda\\', but CUDA is not available. Disabling')\n"
     ]
    },
    {
     "name": "stdout",
     "output_type": "stream",
     "text": [
      "name:T0002_XM_20110802120223_01.jpg, pd_count:48, gt_count:38\n"
     ]
    },
    {
     "name": "stderr",
     "output_type": "stream",
     "text": [
      "D:\\anaconda3\\lib\\site-packages\\torch\\autocast_mode.py:141: UserWarning: User provided device_type of 'cuda', but CUDA is not available. Disabling\n",
      "  warnings.warn('User provided device_type of \\'cuda\\', but CUDA is not available. Disabling')\n"
     ]
    },
    {
     "name": "stdout",
     "output_type": "stream",
     "text": [
      "name:T0002_XM_20110802160225_01.jpg, pd_count:45, gt_count:40\n"
     ]
    },
    {
     "name": "stderr",
     "output_type": "stream",
     "text": [
      "D:\\anaconda3\\lib\\site-packages\\torch\\autocast_mode.py:141: UserWarning: User provided device_type of 'cuda', but CUDA is not available. Disabling\n",
      "  warnings.warn('User provided device_type of \\'cuda\\', but CUDA is not available. Disabling')\n"
     ]
    },
    {
     "name": "stdout",
     "output_type": "stream",
     "text": [
      "name:T0006_XM_20140808090048_01.jpg, pd_count:4, gt_count:1\n"
     ]
    },
    {
     "name": "stderr",
     "output_type": "stream",
     "text": [
      "D:\\anaconda3\\lib\\site-packages\\torch\\autocast_mode.py:141: UserWarning: User provided device_type of 'cuda', but CUDA is not available. Disabling\n",
      "  warnings.warn('User provided device_type of \\'cuda\\', but CUDA is not available. Disabling')\n"
     ]
    },
    {
     "name": "stdout",
     "output_type": "stream",
     "text": [
      "name:T0006_XM_20140808110052_01.jpg, pd_count:5, gt_count:2\n"
     ]
    },
    {
     "name": "stderr",
     "output_type": "stream",
     "text": [
      "D:\\anaconda3\\lib\\site-packages\\torch\\autocast_mode.py:141: UserWarning: User provided device_type of 'cuda', but CUDA is not available. Disabling\n",
      "  warnings.warn('User provided device_type of \\'cuda\\', but CUDA is not available. Disabling')\n"
     ]
    },
    {
     "name": "stdout",
     "output_type": "stream",
     "text": [
      "name:T0006_XM_20140808140052_01.jpg, pd_count:2, gt_count:2\n"
     ]
    },
    {
     "name": "stderr",
     "output_type": "stream",
     "text": [
      "D:\\anaconda3\\lib\\site-packages\\torch\\autocast_mode.py:141: UserWarning: User provided device_type of 'cuda', but CUDA is not available. Disabling\n",
      "  warnings.warn('User provided device_type of \\'cuda\\', but CUDA is not available. Disabling')\n"
     ]
    },
    {
     "name": "stdout",
     "output_type": "stream",
     "text": [
      "name:T0006_XM_20140808160048_01.jpg, pd_count:1, gt_count:2\n"
     ]
    },
    {
     "name": "stderr",
     "output_type": "stream",
     "text": [
      "D:\\anaconda3\\lib\\site-packages\\torch\\autocast_mode.py:141: UserWarning: User provided device_type of 'cuda', but CUDA is not available. Disabling\n",
      "  warnings.warn('User provided device_type of \\'cuda\\', but CUDA is not available. Disabling')\n"
     ]
    },
    {
     "name": "stdout",
     "output_type": "stream",
     "text": [
      "name:T0006_XM_20140809100048_01.jpg, pd_count:9, gt_count:2\n"
     ]
    },
    {
     "name": "stderr",
     "output_type": "stream",
     "text": [
      "D:\\anaconda3\\lib\\site-packages\\torch\\autocast_mode.py:141: UserWarning: User provided device_type of 'cuda', but CUDA is not available. Disabling\n",
      "  warnings.warn('User provided device_type of \\'cuda\\', but CUDA is not available. Disabling')\n"
     ]
    },
    {
     "name": "stdout",
     "output_type": "stream",
     "text": [
      "name:T0006_XM_20140809120051_01.jpg, pd_count:4, gt_count:2\n"
     ]
    },
    {
     "name": "stderr",
     "output_type": "stream",
     "text": [
      "D:\\anaconda3\\lib\\site-packages\\torch\\autocast_mode.py:141: UserWarning: User provided device_type of 'cuda', but CUDA is not available. Disabling\n",
      "  warnings.warn('User provided device_type of \\'cuda\\', but CUDA is not available. Disabling')\n"
     ]
    },
    {
     "name": "stdout",
     "output_type": "stream",
     "text": [
      "name:T0006_XM_20140809140048_01.jpg, pd_count:3, gt_count:2\n"
     ]
    },
    {
     "name": "stderr",
     "output_type": "stream",
     "text": [
      "D:\\anaconda3\\lib\\site-packages\\torch\\autocast_mode.py:141: UserWarning: User provided device_type of 'cuda', but CUDA is not available. Disabling\n",
      "  warnings.warn('User provided device_type of \\'cuda\\', but CUDA is not available. Disabling')\n"
     ]
    },
    {
     "name": "stdout",
     "output_type": "stream",
     "text": [
      "name:T0006_XM_20140809160052_01.jpg, pd_count:3, gt_count:2\n"
     ]
    },
    {
     "name": "stderr",
     "output_type": "stream",
     "text": [
      "D:\\anaconda3\\lib\\site-packages\\torch\\autocast_mode.py:141: UserWarning: User provided device_type of 'cuda', but CUDA is not available. Disabling\n",
      "  warnings.warn('User provided device_type of \\'cuda\\', but CUDA is not available. Disabling')\n"
     ]
    },
    {
     "name": "stdout",
     "output_type": "stream",
     "text": [
      "name:T0006_XM_20140809180047_01.jpg, pd_count:3, gt_count:2\n"
     ]
    },
    {
     "name": "stderr",
     "output_type": "stream",
     "text": [
      "D:\\anaconda3\\lib\\site-packages\\torch\\autocast_mode.py:141: UserWarning: User provided device_type of 'cuda', but CUDA is not available. Disabling\n",
      "  warnings.warn('User provided device_type of \\'cuda\\', but CUDA is not available. Disabling')\n"
     ]
    },
    {
     "name": "stdout",
     "output_type": "stream",
     "text": [
      "name:T0006_XM_20140810090049_01.jpg, pd_count:18, gt_count:2\n"
     ]
    },
    {
     "name": "stderr",
     "output_type": "stream",
     "text": [
      "D:\\anaconda3\\lib\\site-packages\\torch\\autocast_mode.py:141: UserWarning: User provided device_type of 'cuda', but CUDA is not available. Disabling\n",
      "  warnings.warn('User provided device_type of \\'cuda\\', but CUDA is not available. Disabling')\n"
     ]
    },
    {
     "name": "stdout",
     "output_type": "stream",
     "text": [
      "name:T0006_XM_20140810120053_01.jpg, pd_count:6, gt_count:2\n"
     ]
    },
    {
     "name": "stderr",
     "output_type": "stream",
     "text": [
      "D:\\anaconda3\\lib\\site-packages\\torch\\autocast_mode.py:141: UserWarning: User provided device_type of 'cuda', but CUDA is not available. Disabling\n",
      "  warnings.warn('User provided device_type of \\'cuda\\', but CUDA is not available. Disabling')\n"
     ]
    },
    {
     "name": "stdout",
     "output_type": "stream",
     "text": [
      "name:T0006_XM_20140810150050_01.jpg, pd_count:6, gt_count:2\n"
     ]
    },
    {
     "name": "stderr",
     "output_type": "stream",
     "text": [
      "D:\\anaconda3\\lib\\site-packages\\torch\\autocast_mode.py:141: UserWarning: User provided device_type of 'cuda', but CUDA is not available. Disabling\n",
      "  warnings.warn('User provided device_type of \\'cuda\\', but CUDA is not available. Disabling')\n"
     ]
    },
    {
     "name": "stdout",
     "output_type": "stream",
     "text": [
      "name:T0006_XM_20140810160052_01.jpg, pd_count:5, gt_count:2\n"
     ]
    },
    {
     "name": "stderr",
     "output_type": "stream",
     "text": [
      "D:\\anaconda3\\lib\\site-packages\\torch\\autocast_mode.py:141: UserWarning: User provided device_type of 'cuda', but CUDA is not available. Disabling\n",
      "  warnings.warn('User provided device_type of \\'cuda\\', but CUDA is not available. Disabling')\n"
     ]
    },
    {
     "name": "stdout",
     "output_type": "stream",
     "text": [
      "name:T0006_XM_20140810180047_01.jpg, pd_count:17, gt_count:2\n"
     ]
    },
    {
     "name": "stderr",
     "output_type": "stream",
     "text": [
      "D:\\anaconda3\\lib\\site-packages\\torch\\autocast_mode.py:141: UserWarning: User provided device_type of 'cuda', but CUDA is not available. Disabling\n",
      "  warnings.warn('User provided device_type of \\'cuda\\', but CUDA is not available. Disabling')\n"
     ]
    },
    {
     "name": "stdout",
     "output_type": "stream",
     "text": [
      "name:T0006_XM_20140811100052_01.jpg, pd_count:13, gt_count:7\n"
     ]
    },
    {
     "name": "stderr",
     "output_type": "stream",
     "text": [
      "D:\\anaconda3\\lib\\site-packages\\torch\\autocast_mode.py:141: UserWarning: User provided device_type of 'cuda', but CUDA is not available. Disabling\n",
      "  warnings.warn('User provided device_type of \\'cuda\\', but CUDA is not available. Disabling')\n"
     ]
    },
    {
     "name": "stdout",
     "output_type": "stream",
     "text": [
      "name:T0006_XM_20140811130049_01.jpg, pd_count:12, gt_count:7\n"
     ]
    },
    {
     "name": "stderr",
     "output_type": "stream",
     "text": [
      "D:\\anaconda3\\lib\\site-packages\\torch\\autocast_mode.py:141: UserWarning: User provided device_type of 'cuda', but CUDA is not available. Disabling\n",
      "  warnings.warn('User provided device_type of \\'cuda\\', but CUDA is not available. Disabling')\n"
     ]
    },
    {
     "name": "stdout",
     "output_type": "stream",
     "text": [
      "name:T0006_XM_20140811160049_01.jpg, pd_count:8, gt_count:8\n"
     ]
    },
    {
     "name": "stderr",
     "output_type": "stream",
     "text": [
      "D:\\anaconda3\\lib\\site-packages\\torch\\autocast_mode.py:141: UserWarning: User provided device_type of 'cuda', but CUDA is not available. Disabling\n",
      "  warnings.warn('User provided device_type of \\'cuda\\', but CUDA is not available. Disabling')\n"
     ]
    },
    {
     "name": "stdout",
     "output_type": "stream",
     "text": [
      "name:T0006_XM_20140811170049_01.jpg, pd_count:12, gt_count:8\n"
     ]
    },
    {
     "name": "stderr",
     "output_type": "stream",
     "text": [
      "D:\\anaconda3\\lib\\site-packages\\torch\\autocast_mode.py:141: UserWarning: User provided device_type of 'cuda', but CUDA is not available. Disabling\n",
      "  warnings.warn('User provided device_type of \\'cuda\\', but CUDA is not available. Disabling')\n"
     ]
    },
    {
     "name": "stdout",
     "output_type": "stream",
     "text": [
      "name:T0006_XM_20140812080052_01.jpg, pd_count:29, gt_count:8\n"
     ]
    },
    {
     "name": "stderr",
     "output_type": "stream",
     "text": [
      "D:\\anaconda3\\lib\\site-packages\\torch\\autocast_mode.py:141: UserWarning: User provided device_type of 'cuda', but CUDA is not available. Disabling\n",
      "  warnings.warn('User provided device_type of \\'cuda\\', but CUDA is not available. Disabling')\n"
     ]
    },
    {
     "name": "stdout",
     "output_type": "stream",
     "text": [
      "name:T0006_XM_20140812110051_01.jpg, pd_count:29, gt_count:12\n"
     ]
    },
    {
     "name": "stderr",
     "output_type": "stream",
     "text": [
      "D:\\anaconda3\\lib\\site-packages\\torch\\autocast_mode.py:141: UserWarning: User provided device_type of 'cuda', but CUDA is not available. Disabling\n",
      "  warnings.warn('User provided device_type of \\'cuda\\', but CUDA is not available. Disabling')\n"
     ]
    },
    {
     "name": "stdout",
     "output_type": "stream",
     "text": [
      "name:T0006_XM_20140812140053_01.jpg, pd_count:14, gt_count:11\n"
     ]
    },
    {
     "name": "stderr",
     "output_type": "stream",
     "text": [
      "D:\\anaconda3\\lib\\site-packages\\torch\\autocast_mode.py:141: UserWarning: User provided device_type of 'cuda', but CUDA is not available. Disabling\n",
      "  warnings.warn('User provided device_type of \\'cuda\\', but CUDA is not available. Disabling')\n"
     ]
    },
    {
     "name": "stdout",
     "output_type": "stream",
     "text": [
      "name:T0006_XM_20140812170051_01.jpg, pd_count:16, gt_count:10\n"
     ]
    },
    {
     "name": "stderr",
     "output_type": "stream",
     "text": [
      "D:\\anaconda3\\lib\\site-packages\\torch\\autocast_mode.py:141: UserWarning: User provided device_type of 'cuda', but CUDA is not available. Disabling\n",
      "  warnings.warn('User provided device_type of \\'cuda\\', but CUDA is not available. Disabling')\n"
     ]
    },
    {
     "name": "stdout",
     "output_type": "stream",
     "text": [
      "name:T0006_XM_20140813110051_01.jpg, pd_count:23, gt_count:16\n"
     ]
    },
    {
     "name": "stderr",
     "output_type": "stream",
     "text": [
      "D:\\anaconda3\\lib\\site-packages\\torch\\autocast_mode.py:141: UserWarning: User provided device_type of 'cuda', but CUDA is not available. Disabling\n",
      "  warnings.warn('User provided device_type of \\'cuda\\', but CUDA is not available. Disabling')\n"
     ]
    },
    {
     "name": "stdout",
     "output_type": "stream",
     "text": [
      "name:T0006_XM_20140813140046_01.jpg, pd_count:24, gt_count:18\n"
     ]
    },
    {
     "name": "stderr",
     "output_type": "stream",
     "text": [
      "D:\\anaconda3\\lib\\site-packages\\torch\\autocast_mode.py:141: UserWarning: User provided device_type of 'cuda', but CUDA is not available. Disabling\n",
      "  warnings.warn('User provided device_type of \\'cuda\\', but CUDA is not available. Disabling')\n"
     ]
    },
    {
     "name": "stdout",
     "output_type": "stream",
     "text": [
      "name:T0006_XM_20140813160048_01.jpg, pd_count:19, gt_count:16\n"
     ]
    },
    {
     "name": "stderr",
     "output_type": "stream",
     "text": [
      "D:\\anaconda3\\lib\\site-packages\\torch\\autocast_mode.py:141: UserWarning: User provided device_type of 'cuda', but CUDA is not available. Disabling\n",
      "  warnings.warn('User provided device_type of \\'cuda\\', but CUDA is not available. Disabling')\n"
     ]
    },
    {
     "name": "stdout",
     "output_type": "stream",
     "text": [
      "name:T0006_XM_20140814090050_01.jpg, pd_count:30, gt_count:17\n"
     ]
    },
    {
     "name": "stderr",
     "output_type": "stream",
     "text": [
      "D:\\anaconda3\\lib\\site-packages\\torch\\autocast_mode.py:141: UserWarning: User provided device_type of 'cuda', but CUDA is not available. Disabling\n",
      "  warnings.warn('User provided device_type of \\'cuda\\', but CUDA is not available. Disabling')\n"
     ]
    },
    {
     "name": "stdout",
     "output_type": "stream",
     "text": [
      "name:T0006_XM_20140814110050_01.jpg, pd_count:32, gt_count:17\n"
     ]
    },
    {
     "name": "stderr",
     "output_type": "stream",
     "text": [
      "D:\\anaconda3\\lib\\site-packages\\torch\\autocast_mode.py:141: UserWarning: User provided device_type of 'cuda', but CUDA is not available. Disabling\n",
      "  warnings.warn('User provided device_type of \\'cuda\\', but CUDA is not available. Disabling')\n"
     ]
    },
    {
     "name": "stdout",
     "output_type": "stream",
     "text": [
      "name:T0006_XM_20140814130054_01.jpg, pd_count:28, gt_count:16\n"
     ]
    },
    {
     "name": "stderr",
     "output_type": "stream",
     "text": [
      "D:\\anaconda3\\lib\\site-packages\\torch\\autocast_mode.py:141: UserWarning: User provided device_type of 'cuda', but CUDA is not available. Disabling\n",
      "  warnings.warn('User provided device_type of \\'cuda\\', but CUDA is not available. Disabling')\n"
     ]
    },
    {
     "name": "stdout",
     "output_type": "stream",
     "text": [
      "name:T0006_XM_20140814150051_01.jpg, pd_count:29, gt_count:18\n"
     ]
    },
    {
     "name": "stderr",
     "output_type": "stream",
     "text": [
      "D:\\anaconda3\\lib\\site-packages\\torch\\autocast_mode.py:141: UserWarning: User provided device_type of 'cuda', but CUDA is not available. Disabling\n",
      "  warnings.warn('User provided device_type of \\'cuda\\', but CUDA is not available. Disabling')\n"
     ]
    },
    {
     "name": "stdout",
     "output_type": "stream",
     "text": [
      "name:T0006_XM_20140815110055_01.jpg, pd_count:31, gt_count:20\n"
     ]
    },
    {
     "name": "stderr",
     "output_type": "stream",
     "text": [
      "D:\\anaconda3\\lib\\site-packages\\torch\\autocast_mode.py:141: UserWarning: User provided device_type of 'cuda', but CUDA is not available. Disabling\n",
      "  warnings.warn('User provided device_type of \\'cuda\\', but CUDA is not available. Disabling')\n"
     ]
    },
    {
     "name": "stdout",
     "output_type": "stream",
     "text": [
      "name:T0006_XM_20140815140051_01.jpg, pd_count:23, gt_count:19\n"
     ]
    },
    {
     "name": "stderr",
     "output_type": "stream",
     "text": [
      "D:\\anaconda3\\lib\\site-packages\\torch\\autocast_mode.py:141: UserWarning: User provided device_type of 'cuda', but CUDA is not available. Disabling\n",
      "  warnings.warn('User provided device_type of \\'cuda\\', but CUDA is not available. Disabling')\n"
     ]
    },
    {
     "name": "stdout",
     "output_type": "stream",
     "text": [
      "name:T0006_XM_20140815180047_01.jpg, pd_count:28, gt_count:20\n"
     ]
    },
    {
     "name": "stderr",
     "output_type": "stream",
     "text": [
      "D:\\anaconda3\\lib\\site-packages\\torch\\autocast_mode.py:141: UserWarning: User provided device_type of 'cuda', but CUDA is not available. Disabling\n",
      "  warnings.warn('User provided device_type of \\'cuda\\', but CUDA is not available. Disabling')\n"
     ]
    },
    {
     "name": "stdout",
     "output_type": "stream",
     "text": [
      "name:T0006_YM_20140816100050_01.jpg, pd_count:37, gt_count:19\n"
     ]
    },
    {
     "name": "stderr",
     "output_type": "stream",
     "text": [
      "D:\\anaconda3\\lib\\site-packages\\torch\\autocast_mode.py:141: UserWarning: User provided device_type of 'cuda', but CUDA is not available. Disabling\n",
      "  warnings.warn('User provided device_type of \\'cuda\\', but CUDA is not available. Disabling')\n"
     ]
    },
    {
     "name": "stdout",
     "output_type": "stream",
     "text": [
      "name:T0006_YM_20140816120051_01.jpg, pd_count:38, gt_count:18\n"
     ]
    },
    {
     "name": "stderr",
     "output_type": "stream",
     "text": [
      "D:\\anaconda3\\lib\\site-packages\\torch\\autocast_mode.py:141: UserWarning: User provided device_type of 'cuda', but CUDA is not available. Disabling\n",
      "  warnings.warn('User provided device_type of \\'cuda\\', but CUDA is not available. Disabling')\n"
     ]
    },
    {
     "name": "stdout",
     "output_type": "stream",
     "text": [
      "name:T0006_YM_20140816140055_01.jpg, pd_count:37, gt_count:18\n"
     ]
    },
    {
     "name": "stderr",
     "output_type": "stream",
     "text": [
      "D:\\anaconda3\\lib\\site-packages\\torch\\autocast_mode.py:141: UserWarning: User provided device_type of 'cuda', but CUDA is not available. Disabling\n",
      "  warnings.warn('User provided device_type of \\'cuda\\', but CUDA is not available. Disabling')\n"
     ]
    },
    {
     "name": "stdout",
     "output_type": "stream",
     "text": [
      "name:T0006_YM_20140816160047_01.jpg, pd_count:19, gt_count:18\n"
     ]
    },
    {
     "name": "stderr",
     "output_type": "stream",
     "text": [
      "D:\\anaconda3\\lib\\site-packages\\torch\\autocast_mode.py:141: UserWarning: User provided device_type of 'cuda', but CUDA is not available. Disabling\n",
      "  warnings.warn('User provided device_type of \\'cuda\\', but CUDA is not available. Disabling')\n"
     ]
    },
    {
     "name": "stdout",
     "output_type": "stream",
     "text": [
      "name:T0006_YM_20140817100046_01.jpg, pd_count:21, gt_count:21\n"
     ]
    },
    {
     "name": "stderr",
     "output_type": "stream",
     "text": [
      "D:\\anaconda3\\lib\\site-packages\\torch\\autocast_mode.py:141: UserWarning: User provided device_type of 'cuda', but CUDA is not available. Disabling\n",
      "  warnings.warn('User provided device_type of \\'cuda\\', but CUDA is not available. Disabling')\n"
     ]
    },
    {
     "name": "stdout",
     "output_type": "stream",
     "text": [
      "name:T0006_YM_20140817130050_01.jpg, pd_count:25, gt_count:19\n"
     ]
    },
    {
     "name": "stderr",
     "output_type": "stream",
     "text": [
      "D:\\anaconda3\\lib\\site-packages\\torch\\autocast_mode.py:141: UserWarning: User provided device_type of 'cuda', but CUDA is not available. Disabling\n",
      "  warnings.warn('User provided device_type of \\'cuda\\', but CUDA is not available. Disabling')\n"
     ]
    },
    {
     "name": "stdout",
     "output_type": "stream",
     "text": [
      "name:T0006_YM_20140817160050_01.jpg, pd_count:26, gt_count:20\n"
     ]
    },
    {
     "name": "stderr",
     "output_type": "stream",
     "text": [
      "D:\\anaconda3\\lib\\site-packages\\torch\\autocast_mode.py:141: UserWarning: User provided device_type of 'cuda', but CUDA is not available. Disabling\n",
      "  warnings.warn('User provided device_type of \\'cuda\\', but CUDA is not available. Disabling')\n"
     ]
    },
    {
     "name": "stdout",
     "output_type": "stream",
     "text": [
      "name:T0006_YM_20140818090047_01.jpg, pd_count:27, gt_count:20\n"
     ]
    },
    {
     "name": "stderr",
     "output_type": "stream",
     "text": [
      "D:\\anaconda3\\lib\\site-packages\\torch\\autocast_mode.py:141: UserWarning: User provided device_type of 'cuda', but CUDA is not available. Disabling\n",
      "  warnings.warn('User provided device_type of \\'cuda\\', but CUDA is not available. Disabling')\n"
     ]
    },
    {
     "name": "stdout",
     "output_type": "stream",
     "text": [
      "name:T0006_YM_20140818110052_01.jpg, pd_count:30, gt_count:20\n"
     ]
    },
    {
     "name": "stderr",
     "output_type": "stream",
     "text": [
      "D:\\anaconda3\\lib\\site-packages\\torch\\autocast_mode.py:141: UserWarning: User provided device_type of 'cuda', but CUDA is not available. Disabling\n",
      "  warnings.warn('User provided device_type of \\'cuda\\', but CUDA is not available. Disabling')\n"
     ]
    },
    {
     "name": "stdout",
     "output_type": "stream",
     "text": [
      "name:T0006_YM_20140818130051_01.jpg, pd_count:28, gt_count:20\n"
     ]
    },
    {
     "name": "stderr",
     "output_type": "stream",
     "text": [
      "D:\\anaconda3\\lib\\site-packages\\torch\\autocast_mode.py:141: UserWarning: User provided device_type of 'cuda', but CUDA is not available. Disabling\n",
      "  warnings.warn('User provided device_type of \\'cuda\\', but CUDA is not available. Disabling')\n"
     ]
    },
    {
     "name": "stdout",
     "output_type": "stream",
     "text": [
      "name:T0006_YM_20140818150054_01.jpg, pd_count:31, gt_count:20\n"
     ]
    },
    {
     "name": "stderr",
     "output_type": "stream",
     "text": [
      "D:\\anaconda3\\lib\\site-packages\\torch\\autocast_mode.py:141: UserWarning: User provided device_type of 'cuda', but CUDA is not available. Disabling\n",
      "  warnings.warn('User provided device_type of \\'cuda\\', but CUDA is not available. Disabling')\n"
     ]
    },
    {
     "name": "stdout",
     "output_type": "stream",
     "text": [
      "name:T0006_YM_20140818170051_01.jpg, pd_count:21, gt_count:20\n"
     ]
    },
    {
     "name": "stderr",
     "output_type": "stream",
     "text": [
      "D:\\anaconda3\\lib\\site-packages\\torch\\autocast_mode.py:141: UserWarning: User provided device_type of 'cuda', but CUDA is not available. Disabling\n",
      "  warnings.warn('User provided device_type of \\'cuda\\', but CUDA is not available. Disabling')\n"
     ]
    },
    {
     "name": "stdout",
     "output_type": "stream",
     "text": [
      "name:T0006_YM_20140818180046_01.jpg, pd_count:19, gt_count:20\n"
     ]
    },
    {
     "name": "stderr",
     "output_type": "stream",
     "text": [
      "D:\\anaconda3\\lib\\site-packages\\torch\\autocast_mode.py:141: UserWarning: User provided device_type of 'cuda', but CUDA is not available. Disabling\n",
      "  warnings.warn('User provided device_type of \\'cuda\\', but CUDA is not available. Disabling')\n"
     ]
    },
    {
     "name": "stdout",
     "output_type": "stream",
     "text": [
      "name:XAM02_YM_20150725100005_01.jpg, pd_count:4, gt_count:5\n"
     ]
    },
    {
     "name": "stderr",
     "output_type": "stream",
     "text": [
      "D:\\anaconda3\\lib\\site-packages\\torch\\autocast_mode.py:141: UserWarning: User provided device_type of 'cuda', but CUDA is not available. Disabling\n",
      "  warnings.warn('User provided device_type of \\'cuda\\', but CUDA is not available. Disabling')\n"
     ]
    },
    {
     "name": "stdout",
     "output_type": "stream",
     "text": [
      "name:XAM02_YM_20150726100009_01.jpg, pd_count:4, gt_count:8\n"
     ]
    },
    {
     "name": "stderr",
     "output_type": "stream",
     "text": [
      "D:\\anaconda3\\lib\\site-packages\\torch\\autocast_mode.py:141: UserWarning: User provided device_type of 'cuda', but CUDA is not available. Disabling\n",
      "  warnings.warn('User provided device_type of \\'cuda\\', but CUDA is not available. Disabling')\n"
     ]
    },
    {
     "name": "stdout",
     "output_type": "stream",
     "text": [
      "name:XAM02_YM_20150727100010_01.jpg, pd_count:3, gt_count:12\n"
     ]
    },
    {
     "name": "stderr",
     "output_type": "stream",
     "text": [
      "D:\\anaconda3\\lib\\site-packages\\torch\\autocast_mode.py:141: UserWarning: User provided device_type of 'cuda', but CUDA is not available. Disabling\n",
      "  warnings.warn('User provided device_type of \\'cuda\\', but CUDA is not available. Disabling')\n"
     ]
    },
    {
     "name": "stdout",
     "output_type": "stream",
     "text": [
      "name:XAM02_YM_20150728100006_01.jpg, pd_count:6, gt_count:20\n"
     ]
    },
    {
     "name": "stderr",
     "output_type": "stream",
     "text": [
      "D:\\anaconda3\\lib\\site-packages\\torch\\autocast_mode.py:141: UserWarning: User provided device_type of 'cuda', but CUDA is not available. Disabling\n",
      "  warnings.warn('User provided device_type of \\'cuda\\', but CUDA is not available. Disabling')\n"
     ]
    },
    {
     "name": "stdout",
     "output_type": "stream",
     "text": [
      "name:XAM02_YM_20150729100005_01.jpg, pd_count:14, gt_count:21\n"
     ]
    },
    {
     "name": "stderr",
     "output_type": "stream",
     "text": [
      "D:\\anaconda3\\lib\\site-packages\\torch\\autocast_mode.py:141: UserWarning: User provided device_type of 'cuda', but CUDA is not available. Disabling\n",
      "  warnings.warn('User provided device_type of \\'cuda\\', but CUDA is not available. Disabling')\n"
     ]
    },
    {
     "name": "stdout",
     "output_type": "stream",
     "text": [
      "name:XAM02_YM_20150730100009_01.jpg, pd_count:13, gt_count:27\n"
     ]
    },
    {
     "name": "stderr",
     "output_type": "stream",
     "text": [
      "D:\\anaconda3\\lib\\site-packages\\torch\\autocast_mode.py:141: UserWarning: User provided device_type of 'cuda', but CUDA is not available. Disabling\n",
      "  warnings.warn('User provided device_type of \\'cuda\\', but CUDA is not available. Disabling')\n"
     ]
    },
    {
     "name": "stdout",
     "output_type": "stream",
     "text": [
      "name:XAM02_YM_20150731100011_01.jpg, pd_count:12, gt_count:30\n"
     ]
    },
    {
     "name": "stderr",
     "output_type": "stream",
     "text": [
      "D:\\anaconda3\\lib\\site-packages\\torch\\autocast_mode.py:141: UserWarning: User provided device_type of 'cuda', but CUDA is not available. Disabling\n",
      "  warnings.warn('User provided device_type of \\'cuda\\', but CUDA is not available. Disabling')\n"
     ]
    },
    {
     "name": "stdout",
     "output_type": "stream",
     "text": [
      "name:XAM02_YM_20150801100008_01.jpg, pd_count:20, gt_count:30\n"
     ]
    },
    {
     "name": "stderr",
     "output_type": "stream",
     "text": [
      "D:\\anaconda3\\lib\\site-packages\\torch\\autocast_mode.py:141: UserWarning: User provided device_type of 'cuda', but CUDA is not available. Disabling\n",
      "  warnings.warn('User provided device_type of \\'cuda\\', but CUDA is not available. Disabling')\n"
     ]
    },
    {
     "name": "stdout",
     "output_type": "stream",
     "text": [
      "name:XAM02_YM_20150802100007_01.jpg, pd_count:17, gt_count:32\n"
     ]
    },
    {
     "name": "stderr",
     "output_type": "stream",
     "text": [
      "D:\\anaconda3\\lib\\site-packages\\torch\\autocast_mode.py:141: UserWarning: User provided device_type of 'cuda', but CUDA is not available. Disabling\n",
      "  warnings.warn('User provided device_type of \\'cuda\\', but CUDA is not available. Disabling')\n"
     ]
    },
    {
     "name": "stdout",
     "output_type": "stream",
     "text": [
      "name:XAM02_YM_20150803100005_01.jpg, pd_count:9, gt_count:31\n"
     ]
    },
    {
     "name": "stderr",
     "output_type": "stream",
     "text": [
      "D:\\anaconda3\\lib\\site-packages\\torch\\autocast_mode.py:141: UserWarning: User provided device_type of 'cuda', but CUDA is not available. Disabling\n",
      "  warnings.warn('User provided device_type of \\'cuda\\', but CUDA is not available. Disabling')\n"
     ]
    },
    {
     "name": "stdout",
     "output_type": "stream",
     "text": [
      "name:XAM02_YM_20150804100010_01.jpg, pd_count:12, gt_count:32\n"
     ]
    },
    {
     "name": "stderr",
     "output_type": "stream",
     "text": [
      "D:\\anaconda3\\lib\\site-packages\\torch\\autocast_mode.py:141: UserWarning: User provided device_type of 'cuda', but CUDA is not available. Disabling\n",
      "  warnings.warn('User provided device_type of \\'cuda\\', but CUDA is not available. Disabling')\n"
     ]
    },
    {
     "name": "stdout",
     "output_type": "stream",
     "text": [
      "name:XAM02_YM_20150805100009_01.jpg, pd_count:16, gt_count:32\n"
     ]
    },
    {
     "name": "stderr",
     "output_type": "stream",
     "text": [
      "D:\\anaconda3\\lib\\site-packages\\torch\\autocast_mode.py:141: UserWarning: User provided device_type of 'cuda', but CUDA is not available. Disabling\n",
      "  warnings.warn('User provided device_type of \\'cuda\\', but CUDA is not available. Disabling')\n"
     ]
    },
    {
     "name": "stdout",
     "output_type": "stream",
     "text": [
      "name:XAM05_YM_20150724160229_01.jpg, pd_count:14, gt_count:1\n"
     ]
    },
    {
     "name": "stderr",
     "output_type": "stream",
     "text": [
      "D:\\anaconda3\\lib\\site-packages\\torch\\autocast_mode.py:141: UserWarning: User provided device_type of 'cuda', but CUDA is not available. Disabling\n",
      "  warnings.warn('User provided device_type of \\'cuda\\', but CUDA is not available. Disabling')\n"
     ]
    },
    {
     "name": "stdout",
     "output_type": "stream",
     "text": [
      "name:XAM05_YM_20150725160227_01.jpg, pd_count:19, gt_count:24\n"
     ]
    },
    {
     "name": "stderr",
     "output_type": "stream",
     "text": [
      "D:\\anaconda3\\lib\\site-packages\\torch\\autocast_mode.py:141: UserWarning: User provided device_type of 'cuda', but CUDA is not available. Disabling\n",
      "  warnings.warn('User provided device_type of \\'cuda\\', but CUDA is not available. Disabling')\n"
     ]
    },
    {
     "name": "stdout",
     "output_type": "stream",
     "text": [
      "name:XAM05_YM_20150726160228_01.jpg, pd_count:37, gt_count:22\n"
     ]
    },
    {
     "name": "stderr",
     "output_type": "stream",
     "text": [
      "D:\\anaconda3\\lib\\site-packages\\torch\\autocast_mode.py:141: UserWarning: User provided device_type of 'cuda', but CUDA is not available. Disabling\n",
      "  warnings.warn('User provided device_type of \\'cuda\\', but CUDA is not available. Disabling')\n"
     ]
    },
    {
     "name": "stdout",
     "output_type": "stream",
     "text": [
      "name:XAM05_YM_20150727160224_01.jpg, pd_count:33, gt_count:32\n"
     ]
    },
    {
     "name": "stderr",
     "output_type": "stream",
     "text": [
      "D:\\anaconda3\\lib\\site-packages\\torch\\autocast_mode.py:141: UserWarning: User provided device_type of 'cuda', but CUDA is not available. Disabling\n",
      "  warnings.warn('User provided device_type of \\'cuda\\', but CUDA is not available. Disabling')\n"
     ]
    },
    {
     "name": "stdout",
     "output_type": "stream",
     "text": [
      "name:XAM05_YM_20150728150224_01.jpg, pd_count:48, gt_count:38\n"
     ]
    },
    {
     "name": "stderr",
     "output_type": "stream",
     "text": [
      "D:\\anaconda3\\lib\\site-packages\\torch\\autocast_mode.py:141: UserWarning: User provided device_type of 'cuda', but CUDA is not available. Disabling\n",
      "  warnings.warn('User provided device_type of \\'cuda\\', but CUDA is not available. Disabling')\n"
     ]
    },
    {
     "name": "stdout",
     "output_type": "stream",
     "text": [
      "name:XAM05_YM_20150729160225_01.jpg, pd_count:38, gt_count:51\n"
     ]
    },
    {
     "name": "stderr",
     "output_type": "stream",
     "text": [
      "D:\\anaconda3\\lib\\site-packages\\torch\\autocast_mode.py:141: UserWarning: User provided device_type of 'cuda', but CUDA is not available. Disabling\n",
      "  warnings.warn('User provided device_type of \\'cuda\\', but CUDA is not available. Disabling')\n"
     ]
    },
    {
     "name": "stdout",
     "output_type": "stream",
     "text": [
      "name:XAM05_YM_20150730160225_01.jpg, pd_count:54, gt_count:47\n"
     ]
    },
    {
     "name": "stderr",
     "output_type": "stream",
     "text": [
      "D:\\anaconda3\\lib\\site-packages\\torch\\autocast_mode.py:141: UserWarning: User provided device_type of 'cuda', but CUDA is not available. Disabling\n",
      "  warnings.warn('User provided device_type of \\'cuda\\', but CUDA is not available. Disabling')\n"
     ]
    },
    {
     "name": "stdout",
     "output_type": "stream",
     "text": [
      "name:XAM05_YM_20150731160225_01.jpg, pd_count:73, gt_count:49\n"
     ]
    },
    {
     "name": "stderr",
     "output_type": "stream",
     "text": [
      "D:\\anaconda3\\lib\\site-packages\\torch\\autocast_mode.py:141: UserWarning: User provided device_type of 'cuda', but CUDA is not available. Disabling\n",
      "  warnings.warn('User provided device_type of \\'cuda\\', but CUDA is not available. Disabling')\n"
     ]
    },
    {
     "name": "stdout",
     "output_type": "stream",
     "text": [
      "name:XAM05_YM_20150801160224_01.jpg, pd_count:53, gt_count:68\n"
     ]
    },
    {
     "name": "stderr",
     "output_type": "stream",
     "text": [
      "D:\\anaconda3\\lib\\site-packages\\torch\\autocast_mode.py:141: UserWarning: User provided device_type of 'cuda', but CUDA is not available. Disabling\n",
      "  warnings.warn('User provided device_type of \\'cuda\\', but CUDA is not available. Disabling')\n"
     ]
    },
    {
     "name": "stdout",
     "output_type": "stream",
     "text": [
      "name:XAM05_YM_20150802160229_01.jpg, pd_count:49, gt_count:38\n",
      "name:XAM05_YM_20150803160225_01.jpg, pd_count:60, gt_count:43\n"
     ]
    },
    {
     "name": "stderr",
     "output_type": "stream",
     "text": [
      "D:\\anaconda3\\lib\\site-packages\\torch\\autocast_mode.py:141: UserWarning: User provided device_type of 'cuda', but CUDA is not available. Disabling\n",
      "  warnings.warn('User provided device_type of \\'cuda\\', but CUDA is not available. Disabling')\n"
     ]
    }
   ],
   "source": [
    "yolo_gt_counts = []\n",
    "yolo_pd_counts = []\n",
    "\n",
    "model = torch.hub.load('ultralytics/yolov5', 'custom', path='best.pt')\n",
    "model.conf = 0.3\n",
    "model.iou = 0.1\n",
    "for file in os.listdir(valimagePath):\n",
    "    if file == \"FASTER-RCNN\" or file ==\"DENSITY\":\n",
    "        continue\n",
    "    word = file[:-4]\n",
    "    img = Image.open(valimagePath+'/'+file)   \n",
    "    output = model(img)\n",
    "    pd_count = len(output.pred[0].numpy())\n",
    "    yolo_pd_counts.append(pd_count)\n",
    "    f = open(vallabelPath+\"/\"+word+\".txt\", \"r\")\n",
    "    gt_count = sum(1 for line in f)\n",
    "    yolo_gt_counts.append(gt_count)\n",
    "    print(f\"name:{file}, pd_count:{pd_count}, gt_count:{gt_count}\")\n",
    "yolo_mae = compute_mae(yolo_pd_counts, yolo_gt_counts)\n",
    "yolo_rmse = compute_mse(yolo_pd_counts, yolo_gt_counts)\n",
    "yolo_rmae, yolo_rrmse = compute_relerr(yolo_pd_counts, yolo_gt_counts)"
   ]
  },
  {
   "cell_type": "code",
   "execution_count": 157,
   "id": "b16f66e3",
   "metadata": {},
   "outputs": [
    {
     "name": "stdout",
     "output_type": "stream",
     "text": [
      "yolo_mae:11.11, yolo_rmse:13.27, yolo_rmae:97.99, yolo_rrmse: 178.42\n"
     ]
    }
   ],
   "source": [
    "print(f\"yolo_mae:{round(yolo_mae,2)}, yolo_rmse:{round(yolo_rmse,2)}, yolo_rmae:{round(yolo_rmae,2)}, yolo_rrmse: {round(yolo_rrmse,2)}\")"
   ]
  },
  {
   "cell_type": "markdown",
   "id": "eb14d4cb",
   "metadata": {},
   "source": [
    "## Faster-RCNN Model Evaluation"
   ]
  },
  {
   "cell_type": "code",
   "execution_count": 54,
   "id": "3dae0bf3",
   "metadata": {},
   "outputs": [
    {
     "name": "stderr",
     "output_type": "stream",
     "text": [
      "D:\\anaconda3\\lib\\site-packages\\torch\\functional.py:445: UserWarning: torch.meshgrid: in an upcoming release, it will be required to pass the indexing argument. (Triggered internally at  ..\\aten\\src\\ATen\\native\\TensorShape.cpp:2157.)\n",
      "  return _VF.meshgrid(tensors, **kwargs)  # type: ignore[attr-defined]\n"
     ]
    },
    {
     "name": "stdout",
     "output_type": "stream",
     "text": [
      "name:T0001_XM_20110807100242_01, pd_count:5, gt_count:3\n",
      "name:T0001_XM_20110807130247_01, pd_count:3, gt_count:3\n",
      "name:T0001_XM_20110808100247_01, pd_count:12, gt_count:6\n",
      "name:T0001_XM_20110808160246_01, pd_count:12, gt_count:7\n",
      "name:T0001_XM_20110809100242_01, pd_count:18, gt_count:12\n",
      "name:T0001_XM_20110809120248_01, pd_count:15, gt_count:12\n",
      "name:T0001_XM_20110809160242_01, pd_count:16, gt_count:12\n",
      "name:T0001_XM_20110810100242_01, pd_count:26, gt_count:23\n",
      "name:T0001_XM_20110810160246_01, pd_count:25, gt_count:22\n",
      "name:T0001_XM_20110811100244_01, pd_count:34, gt_count:31\n",
      "name:T0001_XM_20110811120244_01, pd_count:32, gt_count:27\n",
      "name:T0001_XM_20110811140245_01, pd_count:31, gt_count:28\n",
      "name:T0001_XM_20110811160245_01, pd_count:32, gt_count:28\n",
      "name:T0001_XM_20110812100243_01, pd_count:41, gt_count:38\n",
      "name:T0001_XM_20110812130242_01, pd_count:39, gt_count:39\n",
      "name:T0001_XM_20110812160245_01, pd_count:42, gt_count:44\n",
      "name:T0001_XM_20110813090243_01, pd_count:43, gt_count:48\n",
      "name:T0001_XM_20110813100247_01, pd_count:44, gt_count:47\n",
      "name:T0001_XM_20110813160244_01, pd_count:43, gt_count:44\n",
      "name:T0001_XM_20120802110255_02, pd_count:5, gt_count:1\n",
      "name:T0001_XM_20120802140257_02, pd_count:9, gt_count:1\n",
      "name:T0001_XM_20120802160252_02, pd_count:9, gt_count:1\n",
      "name:T0001_XM_20120803090254_02, pd_count:10, gt_count:3\n",
      "name:T0001_XM_20120803100257_02, pd_count:12, gt_count:3\n",
      "name:T0001_XM_20120803120254_02, pd_count:10, gt_count:3\n",
      "name:T0001_XM_20120803160256_02, pd_count:18, gt_count:4\n",
      "name:T0001_XM_20120804100258_02, pd_count:27, gt_count:7\n",
      "name:T0001_XM_20120804160257_02, pd_count:30, gt_count:7\n",
      "name:T0001_XM_20120805090254_02, pd_count:32, gt_count:11\n",
      "name:T0001_XM_20120805100258_02, pd_count:34, gt_count:24\n",
      "name:T0001_XM_20120805110255_02, pd_count:28, gt_count:16\n",
      "name:T0001_XM_20120805120252_02, pd_count:31, gt_count:32\n",
      "name:T0001_XM_20120805130255_02, pd_count:33, gt_count:26\n",
      "name:T0001_XM_20120805140252_02, pd_count:41, gt_count:30\n",
      "name:T0001_XM_20120805150254_02, pd_count:37, gt_count:34\n",
      "name:T0001_XM_20120805160256_02, pd_count:40, gt_count:41\n",
      "name:T0001_XM_20120806130253_02, pd_count:39, gt_count:42\n",
      "name:T0001_XM_20120806150256_02, pd_count:43, gt_count:40\n",
      "name:T0001_XM_20120807090254_02, pd_count:46, gt_count:45\n",
      "name:T0001_XM_20120807150255_02, pd_count:43, gt_count:48\n",
      "name:T0001_XM_20130807100253_02, pd_count:16, gt_count:7\n",
      "name:T0001_XM_20130808110252_02, pd_count:22, gt_count:20\n",
      "name:T0001_XM_20130809120253_02, pd_count:26, gt_count:23\n",
      "name:T0001_XM_20130810100251_02, pd_count:37, gt_count:24\n",
      "name:T0001_YM_20100802100241_01, pd_count:11, gt_count:6\n",
      "name:T0001_YM_20100802160235_01, pd_count:12, gt_count:5\n",
      "name:T0001_YM_20100803100238_01, pd_count:27, gt_count:16\n",
      "name:T0001_YM_20100803160241_01, pd_count:29, gt_count:19\n",
      "name:T0001_YM_20100804100235_01, pd_count:42, gt_count:35\n",
      "name:T0001_YM_20100804140239_01, pd_count:42, gt_count:31\n",
      "name:T0001_YM_20100804160240_01, pd_count:43, gt_count:38\n",
      "name:T0001_YM_20100805100237_01, pd_count:52, gt_count:55\n",
      "name:T0001_YM_20100805120236_01, pd_count:49, gt_count:53\n",
      "name:T0001_YM_20100805130235_01, pd_count:43, gt_count:53\n",
      "name:T0001_YM_20100805140235_01, pd_count:39, gt_count:54\n",
      "name:T0001_YM_20100805150240_01, pd_count:39, gt_count:41\n",
      "name:T0001_YM_20100805160240_01, pd_count:35, gt_count:34\n",
      "name:T0001_YM_20100806090236_01, pd_count:50, gt_count:61\n",
      "name:T0001_YM_20100806100235_01, pd_count:49, gt_count:62\n",
      "name:T0001_YM_20100806110235_01, pd_count:46, gt_count:60\n",
      "name:T0001_YM_20100806120242_01, pd_count:48, gt_count:50\n",
      "name:T0001_YM_20100806130240_01, pd_count:47, gt_count:52\n",
      "name:T0001_YM_20100806140240_01, pd_count:43, gt_count:53\n",
      "name:T0001_YM_20100806150239_01, pd_count:49, gt_count:51\n",
      "name:T0001_YM_20100806160239_01, pd_count:48, gt_count:57\n",
      "name:T0001_YM_20100807090237_01, pd_count:53, gt_count:66\n",
      "name:T0001_YM_20100807100236_01, pd_count:51, gt_count:63\n",
      "name:T0001_YM_20100807110237_01, pd_count:53, gt_count:62\n",
      "name:T0001_YM_20100807160235_01, pd_count:53, gt_count:63\n",
      "name:T0001_YM_20100808100235_01, pd_count:59, gt_count:70\n",
      "name:T0001_YM_20100808110235_01, pd_count:59, gt_count:71\n",
      "name:T0001_YM_20100808130241_01, pd_count:59, gt_count:70\n",
      "name:T0001_YM_20100809100235_01, pd_count:62, gt_count:65\n",
      "name:T0001_YM_20100809130240_01, pd_count:60, gt_count:67\n",
      "name:T0001_YM_20100809140240_01, pd_count:55, gt_count:66\n",
      "name:T0001_YM_20100809160239_01, pd_count:58, gt_count:68\n",
      "name:T0002_XM_20110727100223_01, pd_count:17, gt_count:1\n",
      "name:T0002_XM_20110727160223_01, pd_count:15, gt_count:1\n",
      "name:T0002_XM_20110728090224_01, pd_count:21, gt_count:1\n",
      "name:T0002_XM_20110728110224_01, pd_count:20, gt_count:1\n",
      "name:T0002_XM_20110728130225_01, pd_count:18, gt_count:1\n",
      "name:T0002_XM_20110728150223_01, pd_count:23, gt_count:1\n",
      "name:T0002_XM_20110729110232_01, pd_count:22, gt_count:2\n",
      "name:T0002_XM_20110729160224_01, pd_count:20, gt_count:2\n",
      "name:T0002_XM_20110730090225_01, pd_count:26, gt_count:5\n",
      "name:T0002_XM_20110730100225_01, pd_count:27, gt_count:6\n",
      "name:T0002_XM_20110730110224_01, pd_count:23, gt_count:5\n",
      "name:T0002_XM_20110730130223_01, pd_count:36, gt_count:7\n",
      "name:T0002_XM_20110730160224_01, pd_count:17, gt_count:7\n",
      "name:T0002_XM_20110731100223_01, pd_count:24, gt_count:12\n",
      "name:T0002_XM_20110731160223_01, pd_count:18, gt_count:17\n",
      "name:T0002_XM_20110801090223_01, pd_count:31, gt_count:25\n",
      "name:T0002_XM_20110801100224_01, pd_count:30, gt_count:28\n",
      "name:T0002_XM_20110801150224_01, pd_count:35, gt_count:32\n",
      "name:T0002_XM_20110801160224_01, pd_count:38, gt_count:33\n",
      "name:T0002_XM_20110802090224_01, pd_count:36, gt_count:35\n",
      "name:T0002_XM_20110802100228_01, pd_count:37, gt_count:34\n",
      "name:T0002_XM_20110802110223_01, pd_count:38, gt_count:38\n",
      "name:T0002_XM_20110802120223_01, pd_count:38, gt_count:38\n",
      "name:T0002_XM_20110802160225_01, pd_count:39, gt_count:40\n",
      "name:T0006_XM_20140808090048_01, pd_count:3, gt_count:1\n",
      "name:T0006_XM_20140808110052_01, pd_count:3, gt_count:2\n",
      "name:T0006_XM_20140808140052_01, pd_count:4, gt_count:2\n",
      "name:T0006_XM_20140808160048_01, pd_count:5, gt_count:2\n",
      "name:T0006_XM_20140809100048_01, pd_count:4, gt_count:2\n",
      "name:T0006_XM_20140809120051_01, pd_count:4, gt_count:2\n",
      "name:T0006_XM_20140809140048_01, pd_count:7, gt_count:2\n",
      "name:T0006_XM_20140809160052_01, pd_count:3, gt_count:2\n",
      "name:T0006_XM_20140809180047_01, pd_count:1, gt_count:2\n",
      "name:T0006_XM_20140810090049_01, pd_count:6, gt_count:2\n",
      "name:T0006_XM_20140810120053_01, pd_count:6, gt_count:2\n",
      "name:T0006_XM_20140810150050_01, pd_count:15, gt_count:2\n",
      "name:T0006_XM_20140810160052_01, pd_count:21, gt_count:2\n",
      "name:T0006_XM_20140810180047_01, pd_count:16, gt_count:2\n",
      "name:T0006_XM_20140811100052_01, pd_count:9, gt_count:7\n",
      "name:T0006_XM_20140811130049_01, pd_count:10, gt_count:7\n",
      "name:T0006_XM_20140811160049_01, pd_count:20, gt_count:8\n",
      "name:T0006_XM_20140811170049_01, pd_count:10, gt_count:8\n",
      "name:T0006_XM_20140812080052_01, pd_count:20, gt_count:8\n",
      "name:T0006_XM_20140812110051_01, pd_count:19, gt_count:12\n",
      "name:T0006_XM_20140812140053_01, pd_count:14, gt_count:11\n",
      "name:T0006_XM_20140812170051_01, pd_count:9, gt_count:10\n",
      "name:T0006_XM_20140813110051_01, pd_count:16, gt_count:16\n",
      "name:T0006_XM_20140813140046_01, pd_count:19, gt_count:18\n",
      "name:T0006_XM_20140813160048_01, pd_count:18, gt_count:16\n",
      "name:T0006_XM_20140814090050_01, pd_count:23, gt_count:17\n",
      "name:T0006_XM_20140814110050_01, pd_count:29, gt_count:17\n",
      "name:T0006_XM_20140814130054_01, pd_count:30, gt_count:16\n",
      "name:T0006_XM_20140814150051_01, pd_count:34, gt_count:18\n",
      "name:T0006_XM_20140815110055_01, pd_count:22, gt_count:20\n",
      "name:T0006_XM_20140815140051_01, pd_count:36, gt_count:19\n",
      "name:T0006_XM_20140815180047_01, pd_count:32, gt_count:20\n",
      "name:T0006_YM_20140816100050_01, pd_count:27, gt_count:19\n",
      "name:T0006_YM_20140816120051_01, pd_count:27, gt_count:18\n",
      "name:T0006_YM_20140816140055_01, pd_count:29, gt_count:18\n",
      "name:T0006_YM_20140816160047_01, pd_count:27, gt_count:18\n",
      "name:T0006_YM_20140817100046_01, pd_count:28, gt_count:21\n",
      "name:T0006_YM_20140817130050_01, pd_count:23, gt_count:19\n",
      "name:T0006_YM_20140817160050_01, pd_count:30, gt_count:20\n",
      "name:T0006_YM_20140818090047_01, pd_count:26, gt_count:20\n",
      "name:T0006_YM_20140818110052_01, pd_count:26, gt_count:20\n",
      "name:T0006_YM_20140818130051_01, pd_count:35, gt_count:20\n",
      "name:T0006_YM_20140818150054_01, pd_count:28, gt_count:20\n"
     ]
    },
    {
     "name": "stdout",
     "output_type": "stream",
     "text": [
      "name:T0006_YM_20140818170051_01, pd_count:29, gt_count:20\n",
      "name:T0006_YM_20140818180046_01, pd_count:22, gt_count:20\n",
      "name:XAM02_YM_20150725100005_01, pd_count:1, gt_count:5\n",
      "name:XAM02_YM_20150726100009_01, pd_count:9, gt_count:8\n",
      "name:XAM02_YM_20150727100010_01, pd_count:8, gt_count:12\n",
      "name:XAM02_YM_20150728100006_01, pd_count:12, gt_count:20\n",
      "name:XAM02_YM_20150729100005_01, pd_count:3, gt_count:21\n",
      "name:XAM02_YM_20150730100009_01, pd_count:20, gt_count:27\n",
      "name:XAM02_YM_20150731100011_01, pd_count:16, gt_count:30\n",
      "name:XAM02_YM_20150801100008_01, pd_count:19, gt_count:30\n",
      "name:XAM02_YM_20150802100007_01, pd_count:14, gt_count:32\n",
      "name:XAM02_YM_20150803100005_01, pd_count:20, gt_count:31\n",
      "name:XAM02_YM_20150804100010_01, pd_count:20, gt_count:32\n",
      "name:XAM02_YM_20150805100009_01, pd_count:18, gt_count:32\n",
      "name:XAM05_YM_20150724160229_01, pd_count:39, gt_count:1\n",
      "name:XAM05_YM_20150725160227_01, pd_count:28, gt_count:24\n",
      "name:XAM05_YM_20150726160228_01, pd_count:35, gt_count:22\n",
      "name:XAM05_YM_20150727160224_01, pd_count:39, gt_count:32\n",
      "name:XAM05_YM_20150728150224_01, pd_count:40, gt_count:38\n",
      "name:XAM05_YM_20150729160225_01, pd_count:40, gt_count:51\n",
      "name:XAM05_YM_20150730160225_01, pd_count:49, gt_count:47\n",
      "name:XAM05_YM_20150731160225_01, pd_count:46, gt_count:49\n",
      "name:XAM05_YM_20150801160224_01, pd_count:43, gt_count:68\n",
      "name:XAM05_YM_20150802160229_01, pd_count:51, gt_count:38\n",
      "name:XAM05_YM_20150803160225_01, pd_count:48, gt_count:43\n"
     ]
    }
   ],
   "source": [
    "faster_rcnn_gt_counts = []\n",
    "faster_rcnn_pd_counts = []\n",
    "\n",
    "model = torch.load('faster_rcnn2.pt')\n",
    "model.eval()\n",
    "\n",
    "T = 0.3 #threshold\n",
    "\n",
    "for file in os.listdir(valimagePath):\n",
    "    boxes = []\n",
    "    scores = []\n",
    "    word = file[:-4]\n",
    "    image = cv2.imread(valimagePath+'/'+file, cv2.IMREAD_COLOR)\n",
    "    image = cv2.cvtColor(image, cv2.COLOR_BGR2RGB).astype(np.float32)\n",
    "    image /=  255.\n",
    "    image = image.transpose((2, 0, 1))\n",
    "    image = torch.from_numpy(image)\n",
    "    image = image.unsqueeze(0)\n",
    "    output = model(image)\n",
    "    nms_out = (torchvision.ops.nms(boxes= output[0]['boxes'], scores= output[0]['scores'],\n",
    "                                   iou_threshold= 0.1)).cpu().numpy()\n",
    "    for n in nms_out:\n",
    "        if output[0]['scores'][n].cpu().detach().numpy() <= T:\n",
    "            continue\n",
    "        boxes.append(output[0]['boxes'][n].cpu().detach().numpy().astype(np.int32))\n",
    "    pd_count = len(boxes)\n",
    "    faster_rcnn_pd_counts.append(pd_count)\n",
    "    tree = ET.parse(RCNN_vallabelPath+\"/\"+word+\".xml\")\n",
    "    root = tree.getroot()\n",
    "    gt_count = len(root.findall(\"object\"))\n",
    "    faster_rcnn_gt_counts.append(gt_count)\n",
    "    print(f\"name:{word}, pd_count:{pd_count}, gt_count:{gt_count}\")\n",
    "    \n",
    "\n",
    "faster_rcnn_mae = compute_mae(faster_rcnn_pd_counts, faster_rcnn_gt_counts)\n",
    "faster_rcnn_rmse = compute_mse(faster_rcnn_pd_counts, faster_rcnn_gt_counts)\n",
    "faster_rcnn_rmae, faster_rcnn_rrmse = compute_relerr(faster_rcnn_pd_counts, faster_rcnn_gt_counts)"
   ]
  },
  {
   "cell_type": "code",
   "execution_count": 60,
   "id": "1c65d859",
   "metadata": {},
   "outputs": [
    {
     "name": "stdout",
     "output_type": "stream",
     "text": [
      "faster_rcnn_mae:8.08, faster_rcnn_rmse:10.37, faster_rcnn_rmae:178.1, faster_rcnn_rrmse:494.2\n"
     ]
    }
   ],
   "source": [
    "print(f\"faster_rcnn_mae:{round(faster_rcnn_mae,2)}, faster_rcnn_rmse:{round(faster_rcnn_rmse,2)}, faster_rcnn_rmae:{round(faster_rcnn_rmae,2)}, faster_rcnn_rrmse:{round(faster_rcnn_rrmse,2)}\")"
   ]
  },
  {
   "cell_type": "markdown",
   "id": "cc464847",
   "metadata": {},
   "source": [
    "## Density Regression Model Evaluation"
   ]
  },
  {
   "cell_type": "code",
   "execution_count": 87,
   "id": "72ce504f",
   "metadata": {},
   "outputs": [
    {
     "name": "stdout",
     "output_type": "stream",
     "text": [
      "name:T0001_XM_20110807100242_01, pd_count:5, gt_count:3\n",
      "name:T0001_XM_20110807130247_01, pd_count:6, gt_count:4\n",
      "name:T0001_XM_20110808100247_01, pd_count:16, gt_count:11\n",
      "name:T0001_XM_20110808160246_01, pd_count:24, gt_count:11\n",
      "name:T0001_XM_20110809100242_01, pd_count:28, gt_count:18\n",
      "name:T0001_XM_20110809120248_01, pd_count:26, gt_count:19\n",
      "name:T0001_XM_20110809160242_01, pd_count:27, gt_count:19\n",
      "name:T0001_XM_20110810100242_01, pd_count:36, gt_count:31\n",
      "name:T0001_XM_20110810160246_01, pd_count:34, gt_count:31\n",
      "name:T0001_XM_20110811100244_01, pd_count:45, gt_count:46\n",
      "name:T0001_XM_20110811120244_01, pd_count:44, gt_count:45\n",
      "name:T0001_XM_20110811140245_01, pd_count:41, gt_count:41\n",
      "name:T0001_XM_20110811160245_01, pd_count:45, gt_count:46\n",
      "name:T0001_XM_20110812100243_01, pd_count:52, gt_count:54\n",
      "name:T0001_XM_20110812130242_01, pd_count:50, gt_count:54\n",
      "name:T0001_XM_20110812160245_01, pd_count:50, gt_count:50\n",
      "name:T0001_XM_20110813090243_01, pd_count:59, gt_count:54\n",
      "name:T0001_XM_20110813100247_01, pd_count:56, gt_count:54\n",
      "name:T0001_XM_20110813160244_01, pd_count:52, gt_count:56\n",
      "name:T0001_XM_20120802110255_02, pd_count:2, gt_count:5\n",
      "name:T0001_XM_20120802140257_02, pd_count:4, gt_count:4\n",
      "name:T0001_XM_20120802160252_02, pd_count:5, gt_count:5\n",
      "name:T0001_XM_20120803090254_02, pd_count:12, gt_count:14\n",
      "name:T0001_XM_20120803100257_02, pd_count:22, gt_count:18\n",
      "name:T0001_XM_20120803120254_02, pd_count:17, gt_count:21\n",
      "name:T0001_XM_20120803160256_02, pd_count:30, gt_count:26\n",
      "name:T0001_XM_20120804100258_02, pd_count:39, gt_count:39\n",
      "name:T0001_XM_20120804160257_02, pd_count:40, gt_count:42\n",
      "name:T0001_XM_20120805090254_02, pd_count:49, gt_count:49\n",
      "name:T0001_XM_20120805100258_02, pd_count:53, gt_count:51\n",
      "name:T0001_XM_20120805110255_02, pd_count:46, gt_count:47\n",
      "name:T0001_XM_20120805120252_02, pd_count:50, gt_count:51\n",
      "name:T0001_XM_20120805130255_02, pd_count:50, gt_count:49\n",
      "name:T0001_XM_20120805140252_02, pd_count:55, gt_count:49\n",
      "name:T0001_XM_20120805150254_02, pd_count:52, gt_count:52\n",
      "name:T0001_XM_20120805160256_02, pd_count:52, gt_count:52\n",
      "name:T0001_XM_20120806130253_02, pd_count:63, gt_count:50\n",
      "name:T0001_XM_20120806150256_02, pd_count:56, gt_count:49\n",
      "name:T0001_XM_20120807090254_02, pd_count:56, gt_count:51\n",
      "name:T0001_XM_20120807150255_02, pd_count:66, gt_count:55\n",
      "name:T0001_XM_20130807100253_02, pd_count:25, gt_count:8\n",
      "name:T0001_XM_20130808110252_02, pd_count:44, gt_count:39\n",
      "name:T0001_XM_20130809120253_02, pd_count:52, gt_count:45\n",
      "name:T0001_XM_20130810100251_02, pd_count:63, gt_count:52\n",
      "name:T0001_YM_20100802100241_01, pd_count:18, gt_count:21\n",
      "name:T0001_YM_20100802160235_01, pd_count:14, gt_count:25\n",
      "name:T0001_YM_20100803100238_01, pd_count:44, gt_count:47\n",
      "name:T0001_YM_20100803160241_01, pd_count:37, gt_count:45\n",
      "name:T0001_YM_20100804100235_01, pd_count:67, gt_count:58\n",
      "name:T0001_YM_20100804140239_01, pd_count:66, gt_count:58\n",
      "name:T0001_YM_20100804160240_01, pd_count:67, gt_count:58\n",
      "name:T0001_YM_20100805100237_01, pd_count:79, gt_count:71\n",
      "name:T0001_YM_20100805120236_01, pd_count:84, gt_count:68\n",
      "name:T0001_YM_20100805130235_01, pd_count:80, gt_count:67\n",
      "name:T0001_YM_20100805140235_01, pd_count:78, gt_count:67\n",
      "name:T0001_YM_20100805150240_01, pd_count:71, gt_count:61\n",
      "name:T0001_YM_20100805160240_01, pd_count:64, gt_count:58\n",
      "name:T0001_YM_20100806090236_01, pd_count:69, gt_count:71\n",
      "name:T0001_YM_20100806100235_01, pd_count:81, gt_count:69\n",
      "name:T0001_YM_20100806110235_01, pd_count:74, gt_count:69\n",
      "name:T0001_YM_20100806120242_01, pd_count:71, gt_count:68\n",
      "name:T0001_YM_20100806130240_01, pd_count:67, gt_count:70\n",
      "name:T0001_YM_20100806140240_01, pd_count:66, gt_count:65\n",
      "name:T0001_YM_20100806150239_01, pd_count:65, gt_count:70\n",
      "name:T0001_YM_20100806160239_01, pd_count:67, gt_count:68\n",
      "name:T0001_YM_20100807090237_01, pd_count:76, gt_count:74\n",
      "name:T0001_YM_20100807100236_01, pd_count:77, gt_count:79\n",
      "name:T0001_YM_20100807110237_01, pd_count:82, gt_count:77\n",
      "name:T0001_YM_20100807160235_01, pd_count:78, gt_count:77\n",
      "name:T0001_YM_20100808100235_01, pd_count:92, gt_count:79\n",
      "name:T0001_YM_20100808110235_01, pd_count:80, gt_count:78\n",
      "name:T0001_YM_20100808130241_01, pd_count:92, gt_count:79\n",
      "name:T0001_YM_20100809100235_01, pd_count:85, gt_count:80\n",
      "name:T0001_YM_20100809130240_01, pd_count:90, gt_count:81\n",
      "name:T0001_YM_20100809140240_01, pd_count:87, gt_count:81\n",
      "name:T0001_YM_20100809160239_01, pd_count:71, gt_count:79\n",
      "name:T0002_XM_20110727100223_01, pd_count:4, gt_count:1\n",
      "name:T0002_XM_20110727160223_01, pd_count:9, gt_count:1\n",
      "name:T0002_XM_20110728090224_01, pd_count:9, gt_count:1\n",
      "name:T0002_XM_20110728110224_01, pd_count:4, gt_count:1\n",
      "name:T0002_XM_20110728130225_01, pd_count:2, gt_count:1\n",
      "name:T0002_XM_20110728150223_01, pd_count:5, gt_count:1\n",
      "name:T0002_XM_20110729110232_01, pd_count:7, gt_count:5\n",
      "name:T0002_XM_20110729160224_01, pd_count:4, gt_count:6\n",
      "name:T0002_XM_20110730090225_01, pd_count:16, gt_count:13\n",
      "name:T0002_XM_20110730100225_01, pd_count:16, gt_count:13\n",
      "name:T0002_XM_20110730110224_01, pd_count:18, gt_count:13\n",
      "name:T0002_XM_20110730130223_01, pd_count:13, gt_count:14\n",
      "name:T0002_XM_20110730160224_01, pd_count:31, gt_count:13\n",
      "name:T0002_XM_20110731100223_01, pd_count:25, gt_count:22\n",
      "name:T0002_XM_20110731160223_01, pd_count:17, gt_count:27\n",
      "name:T0002_XM_20110801090223_01, pd_count:32, gt_count:35\n",
      "name:T0002_XM_20110801100224_01, pd_count:31, gt_count:40\n",
      "name:T0002_XM_20110801150224_01, pd_count:43, gt_count:41\n",
      "name:T0002_XM_20110801160224_01, pd_count:41, gt_count:42\n",
      "name:T0002_XM_20110802090224_01, pd_count:44, gt_count:39\n",
      "name:T0002_XM_20110802100228_01, pd_count:45, gt_count:40\n",
      "name:T0002_XM_20110802110223_01, pd_count:55, gt_count:42\n",
      "name:T0002_XM_20110802120223_01, pd_count:45, gt_count:41\n",
      "name:T0002_XM_20110802160225_01, pd_count:50, gt_count:44\n",
      "name:T0006_XM_20140808090048_01, pd_count:6, gt_count:3\n",
      "name:T0006_XM_20140808110052_01, pd_count:7, gt_count:3\n",
      "name:T0006_XM_20140808140052_01, pd_count:5, gt_count:3\n",
      "name:T0006_XM_20140808160048_01, pd_count:9, gt_count:3\n",
      "name:T0006_XM_20140809100048_01, pd_count:13, gt_count:2\n",
      "name:T0006_XM_20140809120051_01, pd_count:7, gt_count:2\n",
      "name:T0006_XM_20140809140048_01, pd_count:7, gt_count:2\n",
      "name:T0006_XM_20140809160052_01, pd_count:9, gt_count:2\n",
      "name:T0006_XM_20140809180047_01, pd_count:1, gt_count:2\n",
      "name:T0006_XM_20140810090049_01, pd_count:23, gt_count:6\n",
      "name:T0006_XM_20140810120053_01, pd_count:14, gt_count:6\n",
      "name:T0006_XM_20140810150050_01, pd_count:11, gt_count:7\n",
      "name:T0006_XM_20140810160052_01, pd_count:12, gt_count:7\n",
      "name:T0006_XM_20140810180047_01, pd_count:21, gt_count:7\n",
      "name:T0006_XM_20140811100052_01, pd_count:15, gt_count:10\n",
      "name:T0006_XM_20140811130049_01, pd_count:12, gt_count:11\n",
      "name:T0006_XM_20140811160049_01, pd_count:18, gt_count:12\n",
      "name:T0006_XM_20140811170049_01, pd_count:2, gt_count:12\n",
      "name:T0006_XM_20140812080052_01, pd_count:16, gt_count:13\n",
      "name:T0006_XM_20140812110051_01, pd_count:21, gt_count:16\n",
      "name:T0006_XM_20140812140053_01, pd_count:16, gt_count:15\n",
      "name:T0006_XM_20140812170051_01, pd_count:3, gt_count:15\n",
      "name:T0006_XM_20140813110051_01, pd_count:10, gt_count:20\n",
      "name:T0006_XM_20140813140046_01, pd_count:16, gt_count:21\n",
      "name:T0006_XM_20140813160048_01, pd_count:4, gt_count:19\n",
      "name:T0006_XM_20140814090050_01, pd_count:28, gt_count:22\n",
      "name:T0006_XM_20140814110050_01, pd_count:29, gt_count:20\n",
      "name:T0006_XM_20140814130054_01, pd_count:25, gt_count:19\n",
      "name:T0006_XM_20140814150051_01, pd_count:21, gt_count:20\n",
      "name:T0006_XM_20140815110055_01, pd_count:25, gt_count:21\n",
      "name:T0006_XM_20140815140051_01, pd_count:22, gt_count:21\n",
      "name:T0006_XM_20140815180047_01, pd_count:31, gt_count:20\n",
      "name:T0006_YM_20140816100050_01, pd_count:29, gt_count:21\n",
      "name:T0006_YM_20140816120051_01, pd_count:28, gt_count:20\n",
      "name:T0006_YM_20140816140055_01, pd_count:25, gt_count:19\n",
      "name:T0006_YM_20140816160047_01, pd_count:14, gt_count:21\n",
      "name:T0006_YM_20140817100046_01, pd_count:14, gt_count:21\n",
      "name:T0006_YM_20140817130050_01, pd_count:11, gt_count:21\n",
      "name:T0006_YM_20140817160050_01, pd_count:15, gt_count:22\n",
      "name:T0006_YM_20140818090047_01, pd_count:25, gt_count:22\n",
      "name:T0006_YM_20140818110052_01, pd_count:30, gt_count:22\n",
      "name:T0006_YM_20140818130051_01, pd_count:31, gt_count:22\n",
      "name:T0006_YM_20140818150054_01, pd_count:22, gt_count:22\n"
     ]
    },
    {
     "name": "stdout",
     "output_type": "stream",
     "text": [
      "name:T0006_YM_20140818170051_01, pd_count:11, gt_count:22\n",
      "name:T0006_YM_20140818180046_01, pd_count:4, gt_count:22\n",
      "name:XAM02_YM_20150725100005_01, pd_count:1, gt_count:10\n",
      "name:XAM02_YM_20150726100009_01, pd_count:13, gt_count:18\n",
      "name:XAM02_YM_20150727100010_01, pd_count:13, gt_count:25\n",
      "name:XAM02_YM_20150728100006_01, pd_count:18, gt_count:30\n",
      "name:XAM02_YM_20150729100005_01, pd_count:1, gt_count:32\n",
      "name:XAM02_YM_20150730100009_01, pd_count:19, gt_count:35\n",
      "name:XAM02_YM_20150731100011_01, pd_count:21, gt_count:36\n",
      "name:XAM02_YM_20150801100008_01, pd_count:20, gt_count:39\n",
      "name:XAM02_YM_20150802100007_01, pd_count:20, gt_count:42\n",
      "name:XAM02_YM_20150803100005_01, pd_count:23, gt_count:43\n",
      "name:XAM02_YM_20150804100010_01, pd_count:23, gt_count:44\n",
      "name:XAM02_YM_20150805100009_01, pd_count:25, gt_count:48\n",
      "name:XAM05_YM_20150724160229_01, pd_count:43, gt_count:10\n",
      "name:XAM05_YM_20150725160227_01, pd_count:4, gt_count:28\n",
      "name:XAM05_YM_20150726160228_01, pd_count:46, gt_count:43\n",
      "name:XAM05_YM_20150727160224_01, pd_count:49, gt_count:56\n",
      "name:XAM05_YM_20150728150224_01, pd_count:65, gt_count:71\n",
      "name:XAM05_YM_20150729160225_01, pd_count:11, gt_count:92\n",
      "name:XAM05_YM_20150730160225_01, pd_count:52, gt_count:93\n",
      "name:XAM05_YM_20150731160225_01, pd_count:67, gt_count:97\n",
      "name:XAM05_YM_20150801160224_01, pd_count:36, gt_count:103\n",
      "name:XAM05_YM_20150802160229_01, pd_count:67, gt_count:103\n",
      "name:XAM05_YM_20150803160225_01, pd_count:69, gt_count:107\n"
     ]
    }
   ],
   "source": [
    "density_gt_counts = []\n",
    "density_pd_counts = []\n",
    "\n",
    "model = CountingModels(arc='tasselnetv2', input_size=64, output_stride=8)\n",
    "model = nn.DataParallel(model)\n",
    "model.load_state_dict(torch.load('density_model.pt'))\n",
    "model = model.eval()\n",
    "\n",
    "for file in os.listdir(valimagePath):\n",
    "    img = read_image(valimagePath+'/'+file)\n",
    "    img = resize_image(img)\n",
    "    img = normalize_image(img)\n",
    "    img = tensor_image(img)\n",
    "    img = zero_padding_image(img)\n",
    "    output = model(img, is_normalize=False)\n",
    "    output = Normalizer.gpu_normalizer(output, img.size()[2], img.size()[3], INPUT_SIZE, OUTPUT_STRIDE)\n",
    "    # postprocessing\n",
    "    output = np.clip(output, 0, None)\n",
    "    pd_count = output.sum()\n",
    "    pd_count = math.floor(pd_count)\n",
    "    density_pd_counts.append(pd_count)\n",
    "    annotation = sio.loadmat(DENSITY_vallabelPath+\"/\"+file[:-4]+\".mat\")\n",
    "    gt_count = annotation[\"annotation\"][0][0][1].shape[0]\n",
    "    density_gt_counts.append(gt_count)\n",
    "    print(f\"name:{str(file[:-4])}, pd_count:{pd_count}, gt_count:{gt_count}\")\n",
    "    \n",
    "\n",
    "density_mae = compute_mae(density_pd_counts, density_gt_counts)\n",
    "density_rmse = compute_mse(density_pd_counts, density_gt_counts)\n",
    "density_rmae, density_rrmse = compute_relerr(density_pd_counts, density_gt_counts)"
   ]
  },
  {
   "cell_type": "code",
   "execution_count": 88,
   "id": "ffa173ce",
   "metadata": {},
   "outputs": [
    {
     "name": "stdout",
     "output_type": "stream",
     "text": [
      "density_mae:8.29, density_rmse:13.25, density_rmae:57.85, density_rrmse:127.9\n"
     ]
    }
   ],
   "source": [
    "print(f\"density_mae:{round(density_mae,2)}, density_rmse:{round(density_rmse,2)}, density_rmae:{round(density_rmae,2)}, density_rrmse:{round(density_rrmse,2)}\")"
   ]
  },
  {
   "cell_type": "markdown",
   "id": "e40f758e",
   "metadata": {},
   "source": [
    "## Model Evaluation"
   ]
  },
  {
   "cell_type": "code",
   "execution_count": 5,
   "id": "6d761b26",
   "metadata": {},
   "outputs": [],
   "source": [
    "# density_mae = 5.03\n",
    "# density_mse = 7.23\n",
    "# density_rmae = 21.64\n",
    "# density_rmse = 36.53\n",
    "\n",
    "# faster_rcnn_mae = 8.07\n",
    "# faster_rcnn_mse = 10.37\n",
    "# faster_rcnn_rmae =  178.09\n",
    "# faster_rcnn_rmse = 494.19\n",
    "\n",
    "# yolo_mae = 4.98\n",
    "# yolo_mse = 4.98\n",
    "# yolo_rmae = 99.7\n",
    "# yolo_rmse = 99.7"
   ]
  },
  {
   "cell_type": "code",
   "execution_count": 158,
   "id": "7382f04e",
   "metadata": {},
   "outputs": [],
   "source": [
    "model = [\"YOLO\", \"Faster-RCNN\", \"Density_Regression\"]\n",
    "mae = [yolo_mae,faster_rcnn_mae,density_mae]\n",
    "rmse = [yolo_rmse,faster_rcnn_rmse,density_rmse]\n",
    "rmae = [yolo_rmae,faster_rcnn_rmae,density_rmae]\n",
    "rrmse = [yolo_rrmse,faster_rcnn_rrmse,density_rrmse]"
   ]
  },
  {
   "cell_type": "code",
   "execution_count": 159,
   "id": "f9da565f",
   "metadata": {},
   "outputs": [
    {
     "data": {
      "text/html": [
       "<div>\n",
       "<style scoped>\n",
       "    .dataframe tbody tr th:only-of-type {\n",
       "        vertical-align: middle;\n",
       "    }\n",
       "\n",
       "    .dataframe tbody tr th {\n",
       "        vertical-align: top;\n",
       "    }\n",
       "\n",
       "    .dataframe thead th {\n",
       "        text-align: right;\n",
       "    }\n",
       "</style>\n",
       "<table border=\"1\" class=\"dataframe\">\n",
       "  <thead>\n",
       "    <tr style=\"text-align: right;\">\n",
       "      <th></th>\n",
       "      <th>Model</th>\n",
       "      <th>MAE</th>\n",
       "      <th>RMSE</th>\n",
       "      <th>RMAE</th>\n",
       "      <th>RRMSE</th>\n",
       "    </tr>\n",
       "  </thead>\n",
       "  <tbody>\n",
       "    <tr>\n",
       "      <th>0</th>\n",
       "      <td>YOLO</td>\n",
       "      <td>11.113095</td>\n",
       "      <td>13.274797</td>\n",
       "      <td>97.986121</td>\n",
       "      <td>178.422178</td>\n",
       "    </tr>\n",
       "    <tr>\n",
       "      <th>1</th>\n",
       "      <td>Faster-RCNN</td>\n",
       "      <td>8.077381</td>\n",
       "      <td>10.373099</td>\n",
       "      <td>178.096341</td>\n",
       "      <td>494.197564</td>\n",
       "    </tr>\n",
       "    <tr>\n",
       "      <th>2</th>\n",
       "      <td>Density_Regression</td>\n",
       "      <td>8.285714</td>\n",
       "      <td>13.253930</td>\n",
       "      <td>57.846137</td>\n",
       "      <td>127.895206</td>\n",
       "    </tr>\n",
       "  </tbody>\n",
       "</table>\n",
       "</div>"
      ],
      "text/plain": [
       "                Model        MAE       RMSE        RMAE       RRMSE\n",
       "0                YOLO  11.113095  13.274797   97.986121  178.422178\n",
       "1         Faster-RCNN   8.077381  10.373099  178.096341  494.197564\n",
       "2  Density_Regression   8.285714  13.253930   57.846137  127.895206"
      ]
     },
     "execution_count": 159,
     "metadata": {},
     "output_type": "execute_result"
    }
   ],
   "source": [
    "d = {\"Model\":model, 'MAE': mae, 'RMSE': rmse, 'RMAE': rmae,'RRMSE': rrmse}\n",
    "df = pd.DataFrame(data=d)\n",
    "df.head()"
   ]
  },
  {
   "cell_type": "code",
   "execution_count": 160,
   "id": "3d195bd3",
   "metadata": {},
   "outputs": [
    {
     "data": {
      "text/plain": [
       "<AxesSubplot:title={'center':'Mean Absolute Error'}, xlabel='Model', ylabel='MAE'>"
      ]
     },
     "execution_count": 160,
     "metadata": {},
     "output_type": "execute_result"
    },
    {
     "data": {
      "image/png": "[encoded data removed]",
      "text/plain": [
       "<Figure size 1080x576 with 1 Axes>"
      ]
     },
     "metadata": {},
     "output_type": "display_data"
    }
   ],
   "source": [
    "fig,ax = plt.subplots(figsize=(15,8))\n",
    "plt.title(\"Mean Absolute Error\")\n",
    "sns.barplot(data=df,x=\"Model\",y=\"MAE\", ax=ax)"
   ]
  },
  {
   "cell_type": "code",
   "execution_count": 165,
   "id": "27b64d2d",
   "metadata": {},
   "outputs": [
    {
     "data": {
      "text/plain": [
       "<AxesSubplot:title={'center':'Root Mean Squared Error'}, xlabel='Model', ylabel='RMSE'>"
      ]
     },
     "execution_count": 165,
     "metadata": {},
     "output_type": "execute_result"
    },
    {
     "data": {
      "image/png": "[encoded data removed]",
      "text/plain": [
       "<Figure size 1080x576 with 1 Axes>"
      ]
     },
     "metadata": {},
     "output_type": "display_data"
    }
   ],
   "source": [
    "fig,ax = plt.subplots(figsize=(15,8))\n",
    "plt.title(\"Root Mean Squared Error\")\n",
    "sns.barplot(data=df,x=\"Model\",y=\"RMSE\", ax=ax)"
   ]
  },
  {
   "cell_type": "code",
   "execution_count": 162,
   "id": "922c317d",
   "metadata": {},
   "outputs": [
    {
     "data": {
      "text/plain": [
       "<AxesSubplot:title={'center':'Relative Absolute Error'}, xlabel='Model', ylabel='RMAE'>"
      ]
     },
     "execution_count": 162,
     "metadata": {},
     "output_type": "execute_result"
    },
    {
     "data": {
      "image/png": "[encoded data removed]",
      "text/plain": [
       "<Figure size 1080x576 with 1 Axes>"
      ]
     },
     "metadata": {},
     "output_type": "display_data"
    }
   ],
   "source": [
    "fig,ax = plt.subplots(figsize=(15,8))\n",
    "plt.title(\"Relative Absolute Error\")\n",
    "sns.barplot(data=df,x=\"Model\",y=\"RMAE\", ax=ax)"
   ]
  },
  {
   "cell_type": "code",
   "execution_count": 163,
   "id": "0d7d4c89",
   "metadata": {},
   "outputs": [
    {
     "data": {
      "text/plain": [
       "<AxesSubplot:title={'center':'Relative Root Mean Squared Error'}, xlabel='Model', ylabel='RRMSE'>"
      ]
     },
     "execution_count": 163,
     "metadata": {},
     "output_type": "execute_result"
    },
    {
     "data": {
      "image/png": "[encoded data removed]",
      "text/plain": [
       "<Figure size 1080x576 with 1 Axes>"
      ]
     },
     "metadata": {},
     "output_type": "display_data"
    }
   ],
   "source": [
    "fig,ax = plt.subplots(figsize=(15,8))\n",
    "plt.title(\"Relative Root Mean Squared Error\")\n",
    "sns.barplot(data=df,x=\"Model\",y=\"RRMSE\", ax=ax)"
   ]
  },
  {
   "cell_type": "code",
   "execution_count": 81,
   "id": "8a78501e",
   "metadata": {},
   "outputs": [],
   "source": [
    "IMG_SCALE = 1. / 255\n",
    "IMG_MEAN = [.3405, .4747, .2418]\n",
    "IMG_STD = [1, 1, 1]\n",
    "INPUT_SIZE = 64\n",
    "OUTPUT_STRIDE = 8\n",
    "\n",
    "def read_image(x):\n",
    "    img_arr = np.array(Image.open(x))\n",
    "    if len(img_arr.shape) == 2:  # grayscale\n",
    "        img_arr = np.tile(img_arr, [3, 1, 1]).transpose(1, 2, 0)\n",
    "    return img_arr\n",
    "\n",
    "def resize_image(image):\n",
    "    h, w = image.shape[:2]\n",
    "    nh = int(np.ceil(h * 0.125))\n",
    "    nw = int(np.ceil(w * 0.125))\n",
    "    image = cv2.resize(image, (nw, nh), interpolation=cv2.INTER_CUBIC)\n",
    "    return image\n",
    "\n",
    "def normalize_image(image):\n",
    "    # Normalize\n",
    "    image = image.astype('float32')\n",
    "    # pixel normalization\n",
    "    image = (IMG_SCALE * image - IMG_MEAN) / IMG_STD\n",
    "    image = image.astype('float32')\n",
    "    return image\n",
    "\n",
    "\n",
    "def tensor_image(image):\n",
    "    # To Tensor\n",
    "    image = image.transpose((2, 0, 1))\n",
    "    image = torch.from_numpy(image)\n",
    "    return image\n",
    "\n",
    "\n",
    "def zero_padding_image(image):\n",
    "    psize = 32\n",
    "    h, w = image.size()[-2:]\n",
    "    ph, pw = (psize - h % psize), (psize - w % psize)\n",
    "\n",
    "    (pl, pr) = (pw // 2, pw - pw // 2) if pw != psize else (0, 0)\n",
    "    (pt, pb) = (ph // 2, ph - ph // 2) if ph != psize else (0, 0)\n",
    "    if (ph != psize) or (pw != psize):\n",
    "        tmp_pad = [pl, pr, pt, pb]\n",
    "        image = F.pad(image, tmp_pad)\n",
    "    image = image.unsqueeze(0)\n",
    "    return image\n",
    "\n",
    "class Normalizer:\n",
    "    @staticmethod\n",
    "    def gpu_normalizer(x, imh, imw, insz, os):\n",
    "        _, _, h, w = x.size()\n",
    "        # accm = torch.cuda.FloatTensor(1, insz*insz, h*w).fill_(1)\n",
    "        accm = torch.FloatTensor(1, insz * insz, h * w).fill_(1)\n",
    "        accm = F.fold(accm, (imh, imw), kernel_size=insz, stride=os)\n",
    "        accm = 1 / accm\n",
    "        accm /= insz ** 2\n",
    "        accm = F.unfold(accm, kernel_size=insz, stride=os).sum(1).view(1, 1, h, w)\n",
    "        x *= accm\n",
    "        return x.squeeze().cpu().detach().numpy()\n",
    "\n",
    "\n",
    "class Encoder(nn.Module):\n",
    "    def __init__(self, arc='tasselnetv2'):\n",
    "        super(Encoder, self).__init__()\n",
    "        if arc == 'tasselnetv2':\n",
    "            self.encoder = nn.Sequential(\n",
    "                nn.Conv2d(3, 16, 3, padding=1, bias=False),\n",
    "                nn.BatchNorm2d(16),\n",
    "                nn.ReLU(inplace=True),\n",
    "                nn.MaxPool2d((2, 2), stride=2),\n",
    "                nn.Conv2d(16, 32, 3, padding=1, bias=False),\n",
    "                nn.BatchNorm2d(32),\n",
    "                nn.ReLU(inplace=True),\n",
    "                nn.MaxPool2d((2, 2), stride=2),\n",
    "                nn.Conv2d(32, 64, 3, padding=1, bias=False),\n",
    "                nn.BatchNorm2d(64),\n",
    "                nn.ReLU(inplace=True),\n",
    "                nn.MaxPool2d((2, 2), stride=2),\n",
    "                nn.Conv2d(64, 128, 3, padding=1, bias=False),\n",
    "                nn.BatchNorm2d(128),\n",
    "                nn.ReLU(inplace=True),\n",
    "                nn.Conv2d(128, 128, 3, padding=1, bias=False),\n",
    "                nn.BatchNorm2d(128),\n",
    "                nn.ReLU(inplace=True),\n",
    "            )\n",
    "        else:\n",
    "            raise NotImplementedError\n",
    "\n",
    "    def forward(self, x):\n",
    "        x = self.encoder(x)\n",
    "        return x\n",
    "\n",
    "\n",
    "class Counter(nn.Module):\n",
    "    def __init__(self, arc='tasselnetv2', input_size=64, output_stride=8):\n",
    "        super(Counter, self).__init__()\n",
    "        k = int(input_size / 8)\n",
    "        avg_pool_stride = int(output_stride / 8)\n",
    "\n",
    "        if arc == 'tasselnetv2':\n",
    "            self.counter = nn.Sequential(\n",
    "                nn.Conv2d(128, 128, (k, k), bias=False),\n",
    "                nn.BatchNorm2d(128),\n",
    "                nn.ReLU(inplace=True),\n",
    "                nn.Conv2d(128, 128, 1, bias=False),\n",
    "                nn.BatchNorm2d(128),\n",
    "                nn.ReLU(inplace=True),\n",
    "                nn.Conv2d(128, 1, 1)\n",
    "            )\n",
    "        else:\n",
    "            raise NotImplementedError\n",
    "\n",
    "    def forward(self, x):\n",
    "        x = self.counter(x)\n",
    "        return x\n",
    "\n",
    "\n",
    "class CountingModels(nn.Module):\n",
    "    def __init__(self, arc='tasselnetv2', input_size=64, output_stride=8):\n",
    "        super(CountingModels, self).__init__()\n",
    "        self.input_size = input_size\n",
    "        self.output_stride = output_stride\n",
    "\n",
    "        self.encoder = Encoder(arc)\n",
    "        self.counter = Counter(arc, input_size, output_stride)\n",
    "        if arc == 'tasselnetv2':\n",
    "            # changed\n",
    "            self.normalizer = Normalizer.gpu_normalizer\n",
    "        self.weight_init()\n",
    "\n",
    "    def forward(self, x, is_normalize=True):\n",
    "        imh, imw = x.size()[2:]\n",
    "        x = self.encoder(x)\n",
    "        x = self.counter(x)\n",
    "        if is_normalize:\n",
    "            x = self.normalizer(x, imh, imw, self.input_size, self.output_stride)\n",
    "        return x\n",
    "\n",
    "    def weight_init(self):\n",
    "        for m in self.modules():\n",
    "            if isinstance(m, nn.Conv2d):\n",
    "                nn.init.normal_(m.weight, std=0.01)\n",
    "                # nn.init.kaiming_uniform_(\n",
    "                #         m.weight,\n",
    "                #         mode='fan_in',\n",
    "                #         nonlinearity='relu'\n",
    "                #         )\n",
    "                if m.bias is not None:\n",
    "                    nn.init.constant_(m.bias, 0)\n",
    "            elif isinstance(m, nn.BatchNorm2d):\n",
    "                nn.init.constant_(m.weight, 1)\n",
    "                nn.init.constant_(m.bias, 0)"
   ]
  },
  {
   "cell_type": "code",
   "execution_count": null,
   "id": "bca75417",
   "metadata": {},
   "outputs": [],
   "source": []
  }
 ],
 "metadata": {
  "kernelspec": {
   "display_name": "Python 3 (ipykernel)",
   "language": "python",
   "name": "python3"
  },
  "language_info": {
   "codemirror_mode": {
    "name": "ipython",
    "version": 3
   },
   "file_extension": ".py",
   "mimetype": "text/x-python",
   "name": "python",
   "nbconvert_exporter": "python",
   "pygments_lexer": "ipython3",
   "version": "3.8.5"
  }
 },
 "nbformat": 4,
 "nbformat_minor": 5
}
