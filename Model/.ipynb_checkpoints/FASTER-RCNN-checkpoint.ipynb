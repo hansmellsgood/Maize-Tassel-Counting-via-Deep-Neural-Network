{
 "cells": [
  {
   "cell_type": "code",
   "execution_count": 3,
   "id": "e5b79e74",
   "metadata": {},
   "outputs": [],
   "source": [
    "import torch\n",
    "import torchvision\n",
    "import torch.nn as nn\n",
    "import torch.nn.functional as F\n",
    "from torchvision import transforms\n",
    "import matplotlib.pyplot as plt\n",
    "import numpy as np\n",
    "import cv2\n",
    "from PIL import Image\n",
    "import os"
   ]
  },
  {
   "cell_type": "code",
   "execution_count": 5,
   "id": "3d507f9c",
   "metadata": {},
   "outputs": [
    {
     "name": "stdout",
     "output_type": "stream",
     "text": [
      "Train Image:171\n",
      "Train Label:171\n",
      "[]\n",
      "0\n"
     ]
    }
   ],
   "source": [
    "device= torch.device(\"cpu\")\n",
    "trainimagePath='yolo_model/dataset/images/train'\n",
    "trainlabelPath='yolo_model/dataset/labels/train/FASTER-RCNN'\n",
    "valimagePath='yolo_model/dataset/images/val'\n",
    "vallabelPath='yolo_model/dataset/labels/val/FASTER-RCNN'\n",
    "\n",
    "label_txt = []\n",
    "delete = []\n",
    "\n",
    "print(\"Train Image:\" + str(len(os.listdir(trainimagePath))))\n",
    "print(\"Train Label:\" +str(len(os.listdir(trainlabelPath))))\n",
    "for filename in os.listdir(trainlabelPath):\n",
    "    word = filename[:-4]\n",
    "    label_txt.append(word)\n",
    "for file in os.listdir(trainimagePath):\n",
    "    if file[:-4] not in label_txt:\n",
    "        delete.append(file)\n",
    "print(delete)\n",
    "print(len(delete))"
   ]
  },
  {
   "cell_type": "code",
   "execution_count": 6,
   "id": "5eeefe67",
   "metadata": {},
   "outputs": [
    {
     "name": "stdout",
     "output_type": "stream",
     "text": [
      "Val Image:168\n",
      "Val Label:168\n",
      "[]\n",
      "0\n"
     ]
    }
   ],
   "source": [
    "label_txt = []\n",
    "delete = []\n",
    "print(\"Val Image:\" +str(len(os.listdir(valimagePath))))\n",
    "print(\"Val Label:\" +str(len(os.listdir(vallabelPath))))\n",
    "for filename in os.listdir(vallabelPath):\n",
    "    word = filename[:-4]\n",
    "    label_txt.append(word)\n",
    "for file in os.listdir(valimagePath):\n",
    "    if file[:-4] not in label_txt:\n",
    "        delete.append(file)\n",
    "print(delete)\n",
    "print(len(delete))"
   ]
  },
  {
   "cell_type": "code",
   "execution_count": null,
   "id": "b9c3b750",
   "metadata": {},
   "outputs": [],
   "source": []
  },
  {
   "cell_type": "code",
   "execution_count": null,
   "id": "95787499",
   "metadata": {},
   "outputs": [],
   "source": []
  },
  {
   "cell_type": "code",
   "execution_count": null,
   "id": "e85f513b",
   "metadata": {},
   "outputs": [],
   "source": []
  },
  {
   "cell_type": "code",
   "execution_count": null,
   "id": "0804f8c1",
   "metadata": {},
   "outputs": [],
   "source": []
  },
  {
   "cell_type": "code",
   "execution_count": null,
   "id": "7978bbc3",
   "metadata": {},
   "outputs": [],
   "source": []
  }
 ],
 "metadata": {
  "kernelspec": {
   "display_name": "Python 3 (ipykernel)",
   "language": "python",
   "name": "python3"
  },
  "language_info": {
   "codemirror_mode": {
    "name": "ipython",
    "version": 3
   },
   "file_extension": ".py",
   "mimetype": "text/x-python",
   "name": "python",
   "nbconvert_exporter": "python",
   "pygments_lexer": "ipython3",
   "version": "3.8.5"
  }
 },
 "nbformat": 4,
 "nbformat_minor": 5
}
